{
  "nbformat": 4,
  "nbformat_minor": 0,
  "metadata": {
    "colab": {
      "provenance": []
    },
    "kernelspec": {
      "name": "python3",
      "display_name": "Python 3"
    },
    "language_info": {
      "name": "python"
    }
  },
  "cells": [
    {
      "cell_type": "markdown",
      "source": [
        "# Regressão Linear com Python\n",
        "- Carregar dataset de custo_diaria;\n",
        "- Análise dos dados coletados;\n",
        "- Tratamento dos dados;\n",
        "- Aplicar modelo de ML de Regressão Linear;\n",
        "- Avaliar as métricas do modelo criado;\n"
      ],
      "metadata": {
        "id": "1k0KuQRk-_v5"
      }
    },
    {
      "cell_type": "markdown",
      "source": [
        "# Importando as bibliotecas"
      ],
      "metadata": {
        "id": "wb0IVH4eCGWS"
      }
    },
    {
      "cell_type": "code",
      "source": [
        "import pandas as pd\n",
        "import plotly.express as px\n",
        "import seaborn as sns\n",
        "import numpy as np\n",
        "from sklearn.metrics import mean_absolute_error, mean_squared_error"
      ],
      "metadata": {
        "id": "CM34Gq4JCJGc"
      },
      "execution_count": 15,
      "outputs": []
    },
    {
      "cell_type": "markdown",
      "source": [
        "\n",
        "# Coletando dados\n"
      ],
      "metadata": {
        "id": "D4mR7EKmDFW2"
      }
    },
    {
      "cell_type": "code",
      "source": [
        "# Abrindo doc com pandas\n",
        "custo_diaria = pd.read_csv('/content/custo_diaria.csv', sep=';')"
      ],
      "metadata": {
        "colab": {
          "base_uri": "https://localhost:8080/"
        },
        "id": "56tRR59qDHss",
        "outputId": "d5c5f586-faaf-40df-d55b-1b48ef92f4b4"
      },
      "execution_count": 19,
      "outputs": [
        {
          "output_type": "stream",
          "name": "stdout",
          "text": [
            "    qtd_pessoas  valor_diaria\n",
            "0             1           150\n",
            "1             4           385\n",
            "2             6           499\n",
            "3            10           680\n",
            "4            13           735\n",
            "5            15           859\n",
            "6            18           989\n",
            "7            22          1075\n",
            "8            25          1500\n",
            "9            30          1850\n",
            "10           40          2000\n",
            "11           42          2089\n",
            "12           45          2250\n",
            "13           47          2488\n",
            "14           50          2680\n"
          ]
        }
      ]
    },
    {
      "cell_type": "markdown",
      "source": [
        "# Analisando os dados coletados"
      ],
      "metadata": {
        "id": "98oFwdXuD_pp"
      }
    },
    {
      "cell_type": "code",
      "source": [
        "# Visualizando base de dados, 5 primeiros\n",
        "custo_diaria.head()"
      ],
      "metadata": {
        "colab": {
          "base_uri": "https://localhost:8080/",
          "height": 206
        },
        "id": "LEmvKzzHEBY2",
        "outputId": "52a12291-2350-445c-b28f-cb25890b12ff"
      },
      "execution_count": 20,
      "outputs": [
        {
          "output_type": "execute_result",
          "data": {
            "text/plain": [
              "   qtd_pessoas  valor_diaria\n",
              "0            1           150\n",
              "1            4           385\n",
              "2            6           499\n",
              "3           10           680\n",
              "4           13           735"
            ],
            "text/html": [
              "\n",
              "  <div id=\"df-b006102d-b17c-4669-bfbf-0742fb1fca30\" class=\"colab-df-container\">\n",
              "    <div>\n",
              "<style scoped>\n",
              "    .dataframe tbody tr th:only-of-type {\n",
              "        vertical-align: middle;\n",
              "    }\n",
              "\n",
              "    .dataframe tbody tr th {\n",
              "        vertical-align: top;\n",
              "    }\n",
              "\n",
              "    .dataframe thead th {\n",
              "        text-align: right;\n",
              "    }\n",
              "</style>\n",
              "<table border=\"1\" class=\"dataframe\">\n",
              "  <thead>\n",
              "    <tr style=\"text-align: right;\">\n",
              "      <th></th>\n",
              "      <th>qtd_pessoas</th>\n",
              "      <th>valor_diaria</th>\n",
              "    </tr>\n",
              "  </thead>\n",
              "  <tbody>\n",
              "    <tr>\n",
              "      <th>0</th>\n",
              "      <td>1</td>\n",
              "      <td>150</td>\n",
              "    </tr>\n",
              "    <tr>\n",
              "      <th>1</th>\n",
              "      <td>4</td>\n",
              "      <td>385</td>\n",
              "    </tr>\n",
              "    <tr>\n",
              "      <th>2</th>\n",
              "      <td>6</td>\n",
              "      <td>499</td>\n",
              "    </tr>\n",
              "    <tr>\n",
              "      <th>3</th>\n",
              "      <td>10</td>\n",
              "      <td>680</td>\n",
              "    </tr>\n",
              "    <tr>\n",
              "      <th>4</th>\n",
              "      <td>13</td>\n",
              "      <td>735</td>\n",
              "    </tr>\n",
              "  </tbody>\n",
              "</table>\n",
              "</div>\n",
              "    <div class=\"colab-df-buttons\">\n",
              "\n",
              "  <div class=\"colab-df-container\">\n",
              "    <button class=\"colab-df-convert\" onclick=\"convertToInteractive('df-b006102d-b17c-4669-bfbf-0742fb1fca30')\"\n",
              "            title=\"Convert this dataframe to an interactive table.\"\n",
              "            style=\"display:none;\">\n",
              "\n",
              "  <svg xmlns=\"http://www.w3.org/2000/svg\" height=\"24px\" viewBox=\"0 -960 960 960\">\n",
              "    <path d=\"M120-120v-720h720v720H120Zm60-500h600v-160H180v160Zm220 220h160v-160H400v160Zm0 220h160v-160H400v160ZM180-400h160v-160H180v160Zm440 0h160v-160H620v160ZM180-180h160v-160H180v160Zm440 0h160v-160H620v160Z\"/>\n",
              "  </svg>\n",
              "    </button>\n",
              "\n",
              "  <style>\n",
              "    .colab-df-container {\n",
              "      display:flex;\n",
              "      gap: 12px;\n",
              "    }\n",
              "\n",
              "    .colab-df-convert {\n",
              "      background-color: #E8F0FE;\n",
              "      border: none;\n",
              "      border-radius: 50%;\n",
              "      cursor: pointer;\n",
              "      display: none;\n",
              "      fill: #1967D2;\n",
              "      height: 32px;\n",
              "      padding: 0 0 0 0;\n",
              "      width: 32px;\n",
              "    }\n",
              "\n",
              "    .colab-df-convert:hover {\n",
              "      background-color: #E2EBFA;\n",
              "      box-shadow: 0px 1px 2px rgba(60, 64, 67, 0.3), 0px 1px 3px 1px rgba(60, 64, 67, 0.15);\n",
              "      fill: #174EA6;\n",
              "    }\n",
              "\n",
              "    .colab-df-buttons div {\n",
              "      margin-bottom: 4px;\n",
              "    }\n",
              "\n",
              "    [theme=dark] .colab-df-convert {\n",
              "      background-color: #3B4455;\n",
              "      fill: #D2E3FC;\n",
              "    }\n",
              "\n",
              "    [theme=dark] .colab-df-convert:hover {\n",
              "      background-color: #434B5C;\n",
              "      box-shadow: 0px 1px 3px 1px rgba(0, 0, 0, 0.15);\n",
              "      filter: drop-shadow(0px 1px 2px rgba(0, 0, 0, 0.3));\n",
              "      fill: #FFFFFF;\n",
              "    }\n",
              "  </style>\n",
              "\n",
              "    <script>\n",
              "      const buttonEl =\n",
              "        document.querySelector('#df-b006102d-b17c-4669-bfbf-0742fb1fca30 button.colab-df-convert');\n",
              "      buttonEl.style.display =\n",
              "        google.colab.kernel.accessAllowed ? 'block' : 'none';\n",
              "\n",
              "      async function convertToInteractive(key) {\n",
              "        const element = document.querySelector('#df-b006102d-b17c-4669-bfbf-0742fb1fca30');\n",
              "        const dataTable =\n",
              "          await google.colab.kernel.invokeFunction('convertToInteractive',\n",
              "                                                    [key], {});\n",
              "        if (!dataTable) return;\n",
              "\n",
              "        const docLinkHtml = 'Like what you see? Visit the ' +\n",
              "          '<a target=\"_blank\" href=https://colab.research.google.com/notebooks/data_table.ipynb>data table notebook</a>'\n",
              "          + ' to learn more about interactive tables.';\n",
              "        element.innerHTML = '';\n",
              "        dataTable['output_type'] = 'display_data';\n",
              "        await google.colab.output.renderOutput(dataTable, element);\n",
              "        const docLink = document.createElement('div');\n",
              "        docLink.innerHTML = docLinkHtml;\n",
              "        element.appendChild(docLink);\n",
              "      }\n",
              "    </script>\n",
              "  </div>\n",
              "\n",
              "\n",
              "<div id=\"df-2e26a08c-5552-40bf-907b-6c68dd396e4e\">\n",
              "  <button class=\"colab-df-quickchart\" onclick=\"quickchart('df-2e26a08c-5552-40bf-907b-6c68dd396e4e')\"\n",
              "            title=\"Suggest charts\"\n",
              "            style=\"display:none;\">\n",
              "\n",
              "<svg xmlns=\"http://www.w3.org/2000/svg\" height=\"24px\"viewBox=\"0 0 24 24\"\n",
              "     width=\"24px\">\n",
              "    <g>\n",
              "        <path d=\"M19 3H5c-1.1 0-2 .9-2 2v14c0 1.1.9 2 2 2h14c1.1 0 2-.9 2-2V5c0-1.1-.9-2-2-2zM9 17H7v-7h2v7zm4 0h-2V7h2v10zm4 0h-2v-4h2v4z\"/>\n",
              "    </g>\n",
              "</svg>\n",
              "  </button>\n",
              "\n",
              "<style>\n",
              "  .colab-df-quickchart {\n",
              "      --bg-color: #E8F0FE;\n",
              "      --fill-color: #1967D2;\n",
              "      --hover-bg-color: #E2EBFA;\n",
              "      --hover-fill-color: #174EA6;\n",
              "      --disabled-fill-color: #AAA;\n",
              "      --disabled-bg-color: #DDD;\n",
              "  }\n",
              "\n",
              "  [theme=dark] .colab-df-quickchart {\n",
              "      --bg-color: #3B4455;\n",
              "      --fill-color: #D2E3FC;\n",
              "      --hover-bg-color: #434B5C;\n",
              "      --hover-fill-color: #FFFFFF;\n",
              "      --disabled-bg-color: #3B4455;\n",
              "      --disabled-fill-color: #666;\n",
              "  }\n",
              "\n",
              "  .colab-df-quickchart {\n",
              "    background-color: var(--bg-color);\n",
              "    border: none;\n",
              "    border-radius: 50%;\n",
              "    cursor: pointer;\n",
              "    display: none;\n",
              "    fill: var(--fill-color);\n",
              "    height: 32px;\n",
              "    padding: 0;\n",
              "    width: 32px;\n",
              "  }\n",
              "\n",
              "  .colab-df-quickchart:hover {\n",
              "    background-color: var(--hover-bg-color);\n",
              "    box-shadow: 0 1px 2px rgba(60, 64, 67, 0.3), 0 1px 3px 1px rgba(60, 64, 67, 0.15);\n",
              "    fill: var(--button-hover-fill-color);\n",
              "  }\n",
              "\n",
              "  .colab-df-quickchart-complete:disabled,\n",
              "  .colab-df-quickchart-complete:disabled:hover {\n",
              "    background-color: var(--disabled-bg-color);\n",
              "    fill: var(--disabled-fill-color);\n",
              "    box-shadow: none;\n",
              "  }\n",
              "\n",
              "  .colab-df-spinner {\n",
              "    border: 2px solid var(--fill-color);\n",
              "    border-color: transparent;\n",
              "    border-bottom-color: var(--fill-color);\n",
              "    animation:\n",
              "      spin 1s steps(1) infinite;\n",
              "  }\n",
              "\n",
              "  @keyframes spin {\n",
              "    0% {\n",
              "      border-color: transparent;\n",
              "      border-bottom-color: var(--fill-color);\n",
              "      border-left-color: var(--fill-color);\n",
              "    }\n",
              "    20% {\n",
              "      border-color: transparent;\n",
              "      border-left-color: var(--fill-color);\n",
              "      border-top-color: var(--fill-color);\n",
              "    }\n",
              "    30% {\n",
              "      border-color: transparent;\n",
              "      border-left-color: var(--fill-color);\n",
              "      border-top-color: var(--fill-color);\n",
              "      border-right-color: var(--fill-color);\n",
              "    }\n",
              "    40% {\n",
              "      border-color: transparent;\n",
              "      border-right-color: var(--fill-color);\n",
              "      border-top-color: var(--fill-color);\n",
              "    }\n",
              "    60% {\n",
              "      border-color: transparent;\n",
              "      border-right-color: var(--fill-color);\n",
              "    }\n",
              "    80% {\n",
              "      border-color: transparent;\n",
              "      border-right-color: var(--fill-color);\n",
              "      border-bottom-color: var(--fill-color);\n",
              "    }\n",
              "    90% {\n",
              "      border-color: transparent;\n",
              "      border-bottom-color: var(--fill-color);\n",
              "    }\n",
              "  }\n",
              "</style>\n",
              "\n",
              "  <script>\n",
              "    async function quickchart(key) {\n",
              "      const quickchartButtonEl =\n",
              "        document.querySelector('#' + key + ' button');\n",
              "      quickchartButtonEl.disabled = true;  // To prevent multiple clicks.\n",
              "      quickchartButtonEl.classList.add('colab-df-spinner');\n",
              "      try {\n",
              "        const charts = await google.colab.kernel.invokeFunction(\n",
              "            'suggestCharts', [key], {});\n",
              "      } catch (error) {\n",
              "        console.error('Error during call to suggestCharts:', error);\n",
              "      }\n",
              "      quickchartButtonEl.classList.remove('colab-df-spinner');\n",
              "      quickchartButtonEl.classList.add('colab-df-quickchart-complete');\n",
              "    }\n",
              "    (() => {\n",
              "      let quickchartButtonEl =\n",
              "        document.querySelector('#df-2e26a08c-5552-40bf-907b-6c68dd396e4e button');\n",
              "      quickchartButtonEl.style.display =\n",
              "        google.colab.kernel.accessAllowed ? 'block' : 'none';\n",
              "    })();\n",
              "  </script>\n",
              "</div>\n",
              "\n",
              "    </div>\n",
              "  </div>\n"
            ],
            "application/vnd.google.colaboratory.intrinsic+json": {
              "type": "dataframe",
              "variable_name": "custo_diaria",
              "summary": "{\n  \"name\": \"custo_diaria\",\n  \"rows\": 15,\n  \"fields\": [\n    {\n      \"column\": \"qtd_pessoas\",\n      \"properties\": {\n        \"dtype\": \"number\",\n        \"std\": 16,\n        \"min\": 1,\n        \"max\": 50,\n        \"num_unique_values\": 15,\n        \"samples\": [\n          30,\n          42,\n          1\n        ],\n        \"semantic_type\": \"\",\n        \"description\": \"\"\n      }\n    },\n    {\n      \"column\": \"valor_diaria\",\n      \"properties\": {\n        \"dtype\": \"number\",\n        \"std\": 823,\n        \"min\": 150,\n        \"max\": 2680,\n        \"num_unique_values\": 15,\n        \"samples\": [\n          1850,\n          2089,\n          150\n        ],\n        \"semantic_type\": \"\",\n        \"description\": \"\"\n      }\n    }\n  ]\n}"
            }
          },
          "metadata": {},
          "execution_count": 20
        }
      ]
    },
    {
      "cell_type": "code",
      "source": [
        "# Gerando estatísticas da base de dados\n",
        "custo_diaria.describe()"
      ],
      "metadata": {
        "colab": {
          "base_uri": "https://localhost:8080/",
          "height": 300
        },
        "id": "r99Agp0REPhB",
        "outputId": "d51f77c4-7470-4857-8807-ff4b2bf15e38"
      },
      "execution_count": 21,
      "outputs": [
        {
          "output_type": "execute_result",
          "data": {
            "text/plain": [
              "       qtd_pessoas  valor_diaria\n",
              "count    15.000000     15.000000\n",
              "mean     24.533333   1348.600000\n",
              "std      16.796542    823.087116\n",
              "min       1.000000    150.000000\n",
              "25%      11.500000    707.500000\n",
              "50%      22.000000   1075.000000\n",
              "75%      41.000000   2044.500000\n",
              "max      50.000000   2680.000000"
            ],
            "text/html": [
              "\n",
              "  <div id=\"df-777471f6-2ac4-4e1b-8d0f-0f1261e5bb62\" class=\"colab-df-container\">\n",
              "    <div>\n",
              "<style scoped>\n",
              "    .dataframe tbody tr th:only-of-type {\n",
              "        vertical-align: middle;\n",
              "    }\n",
              "\n",
              "    .dataframe tbody tr th {\n",
              "        vertical-align: top;\n",
              "    }\n",
              "\n",
              "    .dataframe thead th {\n",
              "        text-align: right;\n",
              "    }\n",
              "</style>\n",
              "<table border=\"1\" class=\"dataframe\">\n",
              "  <thead>\n",
              "    <tr style=\"text-align: right;\">\n",
              "      <th></th>\n",
              "      <th>qtd_pessoas</th>\n",
              "      <th>valor_diaria</th>\n",
              "    </tr>\n",
              "  </thead>\n",
              "  <tbody>\n",
              "    <tr>\n",
              "      <th>count</th>\n",
              "      <td>15.000000</td>\n",
              "      <td>15.000000</td>\n",
              "    </tr>\n",
              "    <tr>\n",
              "      <th>mean</th>\n",
              "      <td>24.533333</td>\n",
              "      <td>1348.600000</td>\n",
              "    </tr>\n",
              "    <tr>\n",
              "      <th>std</th>\n",
              "      <td>16.796542</td>\n",
              "      <td>823.087116</td>\n",
              "    </tr>\n",
              "    <tr>\n",
              "      <th>min</th>\n",
              "      <td>1.000000</td>\n",
              "      <td>150.000000</td>\n",
              "    </tr>\n",
              "    <tr>\n",
              "      <th>25%</th>\n",
              "      <td>11.500000</td>\n",
              "      <td>707.500000</td>\n",
              "    </tr>\n",
              "    <tr>\n",
              "      <th>50%</th>\n",
              "      <td>22.000000</td>\n",
              "      <td>1075.000000</td>\n",
              "    </tr>\n",
              "    <tr>\n",
              "      <th>75%</th>\n",
              "      <td>41.000000</td>\n",
              "      <td>2044.500000</td>\n",
              "    </tr>\n",
              "    <tr>\n",
              "      <th>max</th>\n",
              "      <td>50.000000</td>\n",
              "      <td>2680.000000</td>\n",
              "    </tr>\n",
              "  </tbody>\n",
              "</table>\n",
              "</div>\n",
              "    <div class=\"colab-df-buttons\">\n",
              "\n",
              "  <div class=\"colab-df-container\">\n",
              "    <button class=\"colab-df-convert\" onclick=\"convertToInteractive('df-777471f6-2ac4-4e1b-8d0f-0f1261e5bb62')\"\n",
              "            title=\"Convert this dataframe to an interactive table.\"\n",
              "            style=\"display:none;\">\n",
              "\n",
              "  <svg xmlns=\"http://www.w3.org/2000/svg\" height=\"24px\" viewBox=\"0 -960 960 960\">\n",
              "    <path d=\"M120-120v-720h720v720H120Zm60-500h600v-160H180v160Zm220 220h160v-160H400v160Zm0 220h160v-160H400v160ZM180-400h160v-160H180v160Zm440 0h160v-160H620v160ZM180-180h160v-160H180v160Zm440 0h160v-160H620v160Z\"/>\n",
              "  </svg>\n",
              "    </button>\n",
              "\n",
              "  <style>\n",
              "    .colab-df-container {\n",
              "      display:flex;\n",
              "      gap: 12px;\n",
              "    }\n",
              "\n",
              "    .colab-df-convert {\n",
              "      background-color: #E8F0FE;\n",
              "      border: none;\n",
              "      border-radius: 50%;\n",
              "      cursor: pointer;\n",
              "      display: none;\n",
              "      fill: #1967D2;\n",
              "      height: 32px;\n",
              "      padding: 0 0 0 0;\n",
              "      width: 32px;\n",
              "    }\n",
              "\n",
              "    .colab-df-convert:hover {\n",
              "      background-color: #E2EBFA;\n",
              "      box-shadow: 0px 1px 2px rgba(60, 64, 67, 0.3), 0px 1px 3px 1px rgba(60, 64, 67, 0.15);\n",
              "      fill: #174EA6;\n",
              "    }\n",
              "\n",
              "    .colab-df-buttons div {\n",
              "      margin-bottom: 4px;\n",
              "    }\n",
              "\n",
              "    [theme=dark] .colab-df-convert {\n",
              "      background-color: #3B4455;\n",
              "      fill: #D2E3FC;\n",
              "    }\n",
              "\n",
              "    [theme=dark] .colab-df-convert:hover {\n",
              "      background-color: #434B5C;\n",
              "      box-shadow: 0px 1px 3px 1px rgba(0, 0, 0, 0.15);\n",
              "      filter: drop-shadow(0px 1px 2px rgba(0, 0, 0, 0.3));\n",
              "      fill: #FFFFFF;\n",
              "    }\n",
              "  </style>\n",
              "\n",
              "    <script>\n",
              "      const buttonEl =\n",
              "        document.querySelector('#df-777471f6-2ac4-4e1b-8d0f-0f1261e5bb62 button.colab-df-convert');\n",
              "      buttonEl.style.display =\n",
              "        google.colab.kernel.accessAllowed ? 'block' : 'none';\n",
              "\n",
              "      async function convertToInteractive(key) {\n",
              "        const element = document.querySelector('#df-777471f6-2ac4-4e1b-8d0f-0f1261e5bb62');\n",
              "        const dataTable =\n",
              "          await google.colab.kernel.invokeFunction('convertToInteractive',\n",
              "                                                    [key], {});\n",
              "        if (!dataTable) return;\n",
              "\n",
              "        const docLinkHtml = 'Like what you see? Visit the ' +\n",
              "          '<a target=\"_blank\" href=https://colab.research.google.com/notebooks/data_table.ipynb>data table notebook</a>'\n",
              "          + ' to learn more about interactive tables.';\n",
              "        element.innerHTML = '';\n",
              "        dataTable['output_type'] = 'display_data';\n",
              "        await google.colab.output.renderOutput(dataTable, element);\n",
              "        const docLink = document.createElement('div');\n",
              "        docLink.innerHTML = docLinkHtml;\n",
              "        element.appendChild(docLink);\n",
              "      }\n",
              "    </script>\n",
              "  </div>\n",
              "\n",
              "\n",
              "<div id=\"df-9518c2c2-5580-4755-8e57-a37e0c4a1578\">\n",
              "  <button class=\"colab-df-quickchart\" onclick=\"quickchart('df-9518c2c2-5580-4755-8e57-a37e0c4a1578')\"\n",
              "            title=\"Suggest charts\"\n",
              "            style=\"display:none;\">\n",
              "\n",
              "<svg xmlns=\"http://www.w3.org/2000/svg\" height=\"24px\"viewBox=\"0 0 24 24\"\n",
              "     width=\"24px\">\n",
              "    <g>\n",
              "        <path d=\"M19 3H5c-1.1 0-2 .9-2 2v14c0 1.1.9 2 2 2h14c1.1 0 2-.9 2-2V5c0-1.1-.9-2-2-2zM9 17H7v-7h2v7zm4 0h-2V7h2v10zm4 0h-2v-4h2v4z\"/>\n",
              "    </g>\n",
              "</svg>\n",
              "  </button>\n",
              "\n",
              "<style>\n",
              "  .colab-df-quickchart {\n",
              "      --bg-color: #E8F0FE;\n",
              "      --fill-color: #1967D2;\n",
              "      --hover-bg-color: #E2EBFA;\n",
              "      --hover-fill-color: #174EA6;\n",
              "      --disabled-fill-color: #AAA;\n",
              "      --disabled-bg-color: #DDD;\n",
              "  }\n",
              "\n",
              "  [theme=dark] .colab-df-quickchart {\n",
              "      --bg-color: #3B4455;\n",
              "      --fill-color: #D2E3FC;\n",
              "      --hover-bg-color: #434B5C;\n",
              "      --hover-fill-color: #FFFFFF;\n",
              "      --disabled-bg-color: #3B4455;\n",
              "      --disabled-fill-color: #666;\n",
              "  }\n",
              "\n",
              "  .colab-df-quickchart {\n",
              "    background-color: var(--bg-color);\n",
              "    border: none;\n",
              "    border-radius: 50%;\n",
              "    cursor: pointer;\n",
              "    display: none;\n",
              "    fill: var(--fill-color);\n",
              "    height: 32px;\n",
              "    padding: 0;\n",
              "    width: 32px;\n",
              "  }\n",
              "\n",
              "  .colab-df-quickchart:hover {\n",
              "    background-color: var(--hover-bg-color);\n",
              "    box-shadow: 0 1px 2px rgba(60, 64, 67, 0.3), 0 1px 3px 1px rgba(60, 64, 67, 0.15);\n",
              "    fill: var(--button-hover-fill-color);\n",
              "  }\n",
              "\n",
              "  .colab-df-quickchart-complete:disabled,\n",
              "  .colab-df-quickchart-complete:disabled:hover {\n",
              "    background-color: var(--disabled-bg-color);\n",
              "    fill: var(--disabled-fill-color);\n",
              "    box-shadow: none;\n",
              "  }\n",
              "\n",
              "  .colab-df-spinner {\n",
              "    border: 2px solid var(--fill-color);\n",
              "    border-color: transparent;\n",
              "    border-bottom-color: var(--fill-color);\n",
              "    animation:\n",
              "      spin 1s steps(1) infinite;\n",
              "  }\n",
              "\n",
              "  @keyframes spin {\n",
              "    0% {\n",
              "      border-color: transparent;\n",
              "      border-bottom-color: var(--fill-color);\n",
              "      border-left-color: var(--fill-color);\n",
              "    }\n",
              "    20% {\n",
              "      border-color: transparent;\n",
              "      border-left-color: var(--fill-color);\n",
              "      border-top-color: var(--fill-color);\n",
              "    }\n",
              "    30% {\n",
              "      border-color: transparent;\n",
              "      border-left-color: var(--fill-color);\n",
              "      border-top-color: var(--fill-color);\n",
              "      border-right-color: var(--fill-color);\n",
              "    }\n",
              "    40% {\n",
              "      border-color: transparent;\n",
              "      border-right-color: var(--fill-color);\n",
              "      border-top-color: var(--fill-color);\n",
              "    }\n",
              "    60% {\n",
              "      border-color: transparent;\n",
              "      border-right-color: var(--fill-color);\n",
              "    }\n",
              "    80% {\n",
              "      border-color: transparent;\n",
              "      border-right-color: var(--fill-color);\n",
              "      border-bottom-color: var(--fill-color);\n",
              "    }\n",
              "    90% {\n",
              "      border-color: transparent;\n",
              "      border-bottom-color: var(--fill-color);\n",
              "    }\n",
              "  }\n",
              "</style>\n",
              "\n",
              "  <script>\n",
              "    async function quickchart(key) {\n",
              "      const quickchartButtonEl =\n",
              "        document.querySelector('#' + key + ' button');\n",
              "      quickchartButtonEl.disabled = true;  // To prevent multiple clicks.\n",
              "      quickchartButtonEl.classList.add('colab-df-spinner');\n",
              "      try {\n",
              "        const charts = await google.colab.kernel.invokeFunction(\n",
              "            'suggestCharts', [key], {});\n",
              "      } catch (error) {\n",
              "        console.error('Error during call to suggestCharts:', error);\n",
              "      }\n",
              "      quickchartButtonEl.classList.remove('colab-df-spinner');\n",
              "      quickchartButtonEl.classList.add('colab-df-quickchart-complete');\n",
              "    }\n",
              "    (() => {\n",
              "      let quickchartButtonEl =\n",
              "        document.querySelector('#df-9518c2c2-5580-4755-8e57-a37e0c4a1578 button');\n",
              "      quickchartButtonEl.style.display =\n",
              "        google.colab.kernel.accessAllowed ? 'block' : 'none';\n",
              "    })();\n",
              "  </script>\n",
              "</div>\n",
              "\n",
              "    </div>\n",
              "  </div>\n"
            ],
            "application/vnd.google.colaboratory.intrinsic+json": {
              "type": "dataframe",
              "summary": "{\n  \"name\": \"custo_diaria\",\n  \"rows\": 8,\n  \"fields\": [\n    {\n      \"column\": \"qtd_pessoas\",\n      \"properties\": {\n        \"dtype\": \"number\",\n        \"std\": 15.921662363632123,\n        \"min\": 1.0,\n        \"max\": 50.0,\n        \"num_unique_values\": 8,\n        \"samples\": [\n          24.533333333333335,\n          22.0,\n          15.0\n        ],\n        \"semantic_type\": \"\",\n        \"description\": \"\"\n      }\n    },\n    {\n      \"column\": \"valor_diaria\",\n      \"properties\": {\n        \"dtype\": \"number\",\n        \"std\": 907.203759990974,\n        \"min\": 15.0,\n        \"max\": 2680.0,\n        \"num_unique_values\": 8,\n        \"samples\": [\n          1348.6,\n          1075.0,\n          15.0\n        ],\n        \"semantic_type\": \"\",\n        \"description\": \"\"\n      }\n    }\n  ]\n}"
            }
          },
          "metadata": {},
          "execution_count": 21
        }
      ]
    },
    {
      "cell_type": "code",
      "source": [
        "# Verificando se existe valor nulo ou ausente\n",
        "custo_diaria.isna().sum()"
      ],
      "metadata": {
        "colab": {
          "base_uri": "https://localhost:8080/",
          "height": 147
        },
        "id": "NJj8s8twE_3j",
        "outputId": "9c0d24a1-c9d2-454b-806e-aefb8f60152c"
      },
      "execution_count": 22,
      "outputs": [
        {
          "output_type": "execute_result",
          "data": {
            "text/plain": [
              "qtd_pessoas     0\n",
              "valor_diaria    0\n",
              "dtype: int64"
            ],
            "text/html": [
              "<div>\n",
              "<style scoped>\n",
              "    .dataframe tbody tr th:only-of-type {\n",
              "        vertical-align: middle;\n",
              "    }\n",
              "\n",
              "    .dataframe tbody tr th {\n",
              "        vertical-align: top;\n",
              "    }\n",
              "\n",
              "    .dataframe thead th {\n",
              "        text-align: right;\n",
              "    }\n",
              "</style>\n",
              "<table border=\"1\" class=\"dataframe\">\n",
              "  <thead>\n",
              "    <tr style=\"text-align: right;\">\n",
              "      <th></th>\n",
              "      <th>0</th>\n",
              "    </tr>\n",
              "  </thead>\n",
              "  <tbody>\n",
              "    <tr>\n",
              "      <th>qtd_pessoas</th>\n",
              "      <td>0</td>\n",
              "    </tr>\n",
              "    <tr>\n",
              "      <th>valor_diaria</th>\n",
              "      <td>0</td>\n",
              "    </tr>\n",
              "  </tbody>\n",
              "</table>\n",
              "</div><br><label><b>dtype:</b> int64</label>"
            ]
          },
          "metadata": {},
          "execution_count": 22
        }
      ]
    },
    {
      "cell_type": "code",
      "source": [
        "# Verificando informações da base de dados\n",
        "custo_diaria.info()"
      ],
      "metadata": {
        "colab": {
          "base_uri": "https://localhost:8080/"
        },
        "id": "grtIswmkFODM",
        "outputId": "5e3f17bd-c2f8-4034-d167-954fcdb453d7"
      },
      "execution_count": 23,
      "outputs": [
        {
          "output_type": "stream",
          "name": "stdout",
          "text": [
            "<class 'pandas.core.frame.DataFrame'>\n",
            "RangeIndex: 15 entries, 0 to 14\n",
            "Data columns (total 2 columns):\n",
            " #   Column        Non-Null Count  Dtype\n",
            "---  ------        --------------  -----\n",
            " 0   qtd_pessoas   15 non-null     int64\n",
            " 1   valor_diaria  15 non-null     int64\n",
            "dtypes: int64(2)\n",
            "memory usage: 372.0 bytes\n"
          ]
        }
      ]
    },
    {
      "cell_type": "markdown",
      "source": [
        "# Análise de Correlação entre variáveis\n",
        "Correlação Positiva: duas variáveis que possuem correlação crescem e decrescem juntas com uma realção direta.\n",
        "\n",
        "Correlação Negativa: duas variáveis que possuem correlação mas quando uma cresce outra decresce e vice-versa."
      ],
      "metadata": {
        "id": "WiU5SU3hFlCD"
      }
    },
    {
      "cell_type": "code",
      "source": [
        "custo_diaria.corr()"
      ],
      "metadata": {
        "colab": {
          "base_uri": "https://localhost:8080/",
          "height": 112
        },
        "id": "BOPY0F1NF9ic",
        "outputId": "d7e6b743-a54e-44ae-9400-a63e221bba84"
      },
      "execution_count": 25,
      "outputs": [
        {
          "output_type": "execute_result",
          "data": {
            "text/plain": [
              "              qtd_pessoas  valor_diaria\n",
              "qtd_pessoas      1.000000      0.992069\n",
              "valor_diaria     0.992069      1.000000"
            ],
            "text/html": [
              "\n",
              "  <div id=\"df-aa9074af-0a95-4b87-9c96-0b101f1c6302\" class=\"colab-df-container\">\n",
              "    <div>\n",
              "<style scoped>\n",
              "    .dataframe tbody tr th:only-of-type {\n",
              "        vertical-align: middle;\n",
              "    }\n",
              "\n",
              "    .dataframe tbody tr th {\n",
              "        vertical-align: top;\n",
              "    }\n",
              "\n",
              "    .dataframe thead th {\n",
              "        text-align: right;\n",
              "    }\n",
              "</style>\n",
              "<table border=\"1\" class=\"dataframe\">\n",
              "  <thead>\n",
              "    <tr style=\"text-align: right;\">\n",
              "      <th></th>\n",
              "      <th>qtd_pessoas</th>\n",
              "      <th>valor_diaria</th>\n",
              "    </tr>\n",
              "  </thead>\n",
              "  <tbody>\n",
              "    <tr>\n",
              "      <th>qtd_pessoas</th>\n",
              "      <td>1.000000</td>\n",
              "      <td>0.992069</td>\n",
              "    </tr>\n",
              "    <tr>\n",
              "      <th>valor_diaria</th>\n",
              "      <td>0.992069</td>\n",
              "      <td>1.000000</td>\n",
              "    </tr>\n",
              "  </tbody>\n",
              "</table>\n",
              "</div>\n",
              "    <div class=\"colab-df-buttons\">\n",
              "\n",
              "  <div class=\"colab-df-container\">\n",
              "    <button class=\"colab-df-convert\" onclick=\"convertToInteractive('df-aa9074af-0a95-4b87-9c96-0b101f1c6302')\"\n",
              "            title=\"Convert this dataframe to an interactive table.\"\n",
              "            style=\"display:none;\">\n",
              "\n",
              "  <svg xmlns=\"http://www.w3.org/2000/svg\" height=\"24px\" viewBox=\"0 -960 960 960\">\n",
              "    <path d=\"M120-120v-720h720v720H120Zm60-500h600v-160H180v160Zm220 220h160v-160H400v160Zm0 220h160v-160H400v160ZM180-400h160v-160H180v160Zm440 0h160v-160H620v160ZM180-180h160v-160H180v160Zm440 0h160v-160H620v160Z\"/>\n",
              "  </svg>\n",
              "    </button>\n",
              "\n",
              "  <style>\n",
              "    .colab-df-container {\n",
              "      display:flex;\n",
              "      gap: 12px;\n",
              "    }\n",
              "\n",
              "    .colab-df-convert {\n",
              "      background-color: #E8F0FE;\n",
              "      border: none;\n",
              "      border-radius: 50%;\n",
              "      cursor: pointer;\n",
              "      display: none;\n",
              "      fill: #1967D2;\n",
              "      height: 32px;\n",
              "      padding: 0 0 0 0;\n",
              "      width: 32px;\n",
              "    }\n",
              "\n",
              "    .colab-df-convert:hover {\n",
              "      background-color: #E2EBFA;\n",
              "      box-shadow: 0px 1px 2px rgba(60, 64, 67, 0.3), 0px 1px 3px 1px rgba(60, 64, 67, 0.15);\n",
              "      fill: #174EA6;\n",
              "    }\n",
              "\n",
              "    .colab-df-buttons div {\n",
              "      margin-bottom: 4px;\n",
              "    }\n",
              "\n",
              "    [theme=dark] .colab-df-convert {\n",
              "      background-color: #3B4455;\n",
              "      fill: #D2E3FC;\n",
              "    }\n",
              "\n",
              "    [theme=dark] .colab-df-convert:hover {\n",
              "      background-color: #434B5C;\n",
              "      box-shadow: 0px 1px 3px 1px rgba(0, 0, 0, 0.15);\n",
              "      filter: drop-shadow(0px 1px 2px rgba(0, 0, 0, 0.3));\n",
              "      fill: #FFFFFF;\n",
              "    }\n",
              "  </style>\n",
              "\n",
              "    <script>\n",
              "      const buttonEl =\n",
              "        document.querySelector('#df-aa9074af-0a95-4b87-9c96-0b101f1c6302 button.colab-df-convert');\n",
              "      buttonEl.style.display =\n",
              "        google.colab.kernel.accessAllowed ? 'block' : 'none';\n",
              "\n",
              "      async function convertToInteractive(key) {\n",
              "        const element = document.querySelector('#df-aa9074af-0a95-4b87-9c96-0b101f1c6302');\n",
              "        const dataTable =\n",
              "          await google.colab.kernel.invokeFunction('convertToInteractive',\n",
              "                                                    [key], {});\n",
              "        if (!dataTable) return;\n",
              "\n",
              "        const docLinkHtml = 'Like what you see? Visit the ' +\n",
              "          '<a target=\"_blank\" href=https://colab.research.google.com/notebooks/data_table.ipynb>data table notebook</a>'\n",
              "          + ' to learn more about interactive tables.';\n",
              "        element.innerHTML = '';\n",
              "        dataTable['output_type'] = 'display_data';\n",
              "        await google.colab.output.renderOutput(dataTable, element);\n",
              "        const docLink = document.createElement('div');\n",
              "        docLink.innerHTML = docLinkHtml;\n",
              "        element.appendChild(docLink);\n",
              "      }\n",
              "    </script>\n",
              "  </div>\n",
              "\n",
              "\n",
              "<div id=\"df-37f1568f-c311-4eae-850a-30ee1721706b\">\n",
              "  <button class=\"colab-df-quickchart\" onclick=\"quickchart('df-37f1568f-c311-4eae-850a-30ee1721706b')\"\n",
              "            title=\"Suggest charts\"\n",
              "            style=\"display:none;\">\n",
              "\n",
              "<svg xmlns=\"http://www.w3.org/2000/svg\" height=\"24px\"viewBox=\"0 0 24 24\"\n",
              "     width=\"24px\">\n",
              "    <g>\n",
              "        <path d=\"M19 3H5c-1.1 0-2 .9-2 2v14c0 1.1.9 2 2 2h14c1.1 0 2-.9 2-2V5c0-1.1-.9-2-2-2zM9 17H7v-7h2v7zm4 0h-2V7h2v10zm4 0h-2v-4h2v4z\"/>\n",
              "    </g>\n",
              "</svg>\n",
              "  </button>\n",
              "\n",
              "<style>\n",
              "  .colab-df-quickchart {\n",
              "      --bg-color: #E8F0FE;\n",
              "      --fill-color: #1967D2;\n",
              "      --hover-bg-color: #E2EBFA;\n",
              "      --hover-fill-color: #174EA6;\n",
              "      --disabled-fill-color: #AAA;\n",
              "      --disabled-bg-color: #DDD;\n",
              "  }\n",
              "\n",
              "  [theme=dark] .colab-df-quickchart {\n",
              "      --bg-color: #3B4455;\n",
              "      --fill-color: #D2E3FC;\n",
              "      --hover-bg-color: #434B5C;\n",
              "      --hover-fill-color: #FFFFFF;\n",
              "      --disabled-bg-color: #3B4455;\n",
              "      --disabled-fill-color: #666;\n",
              "  }\n",
              "\n",
              "  .colab-df-quickchart {\n",
              "    background-color: var(--bg-color);\n",
              "    border: none;\n",
              "    border-radius: 50%;\n",
              "    cursor: pointer;\n",
              "    display: none;\n",
              "    fill: var(--fill-color);\n",
              "    height: 32px;\n",
              "    padding: 0;\n",
              "    width: 32px;\n",
              "  }\n",
              "\n",
              "  .colab-df-quickchart:hover {\n",
              "    background-color: var(--hover-bg-color);\n",
              "    box-shadow: 0 1px 2px rgba(60, 64, 67, 0.3), 0 1px 3px 1px rgba(60, 64, 67, 0.15);\n",
              "    fill: var(--button-hover-fill-color);\n",
              "  }\n",
              "\n",
              "  .colab-df-quickchart-complete:disabled,\n",
              "  .colab-df-quickchart-complete:disabled:hover {\n",
              "    background-color: var(--disabled-bg-color);\n",
              "    fill: var(--disabled-fill-color);\n",
              "    box-shadow: none;\n",
              "  }\n",
              "\n",
              "  .colab-df-spinner {\n",
              "    border: 2px solid var(--fill-color);\n",
              "    border-color: transparent;\n",
              "    border-bottom-color: var(--fill-color);\n",
              "    animation:\n",
              "      spin 1s steps(1) infinite;\n",
              "  }\n",
              "\n",
              "  @keyframes spin {\n",
              "    0% {\n",
              "      border-color: transparent;\n",
              "      border-bottom-color: var(--fill-color);\n",
              "      border-left-color: var(--fill-color);\n",
              "    }\n",
              "    20% {\n",
              "      border-color: transparent;\n",
              "      border-left-color: var(--fill-color);\n",
              "      border-top-color: var(--fill-color);\n",
              "    }\n",
              "    30% {\n",
              "      border-color: transparent;\n",
              "      border-left-color: var(--fill-color);\n",
              "      border-top-color: var(--fill-color);\n",
              "      border-right-color: var(--fill-color);\n",
              "    }\n",
              "    40% {\n",
              "      border-color: transparent;\n",
              "      border-right-color: var(--fill-color);\n",
              "      border-top-color: var(--fill-color);\n",
              "    }\n",
              "    60% {\n",
              "      border-color: transparent;\n",
              "      border-right-color: var(--fill-color);\n",
              "    }\n",
              "    80% {\n",
              "      border-color: transparent;\n",
              "      border-right-color: var(--fill-color);\n",
              "      border-bottom-color: var(--fill-color);\n",
              "    }\n",
              "    90% {\n",
              "      border-color: transparent;\n",
              "      border-bottom-color: var(--fill-color);\n",
              "    }\n",
              "  }\n",
              "</style>\n",
              "\n",
              "  <script>\n",
              "    async function quickchart(key) {\n",
              "      const quickchartButtonEl =\n",
              "        document.querySelector('#' + key + ' button');\n",
              "      quickchartButtonEl.disabled = true;  // To prevent multiple clicks.\n",
              "      quickchartButtonEl.classList.add('colab-df-spinner');\n",
              "      try {\n",
              "        const charts = await google.colab.kernel.invokeFunction(\n",
              "            'suggestCharts', [key], {});\n",
              "      } catch (error) {\n",
              "        console.error('Error during call to suggestCharts:', error);\n",
              "      }\n",
              "      quickchartButtonEl.classList.remove('colab-df-spinner');\n",
              "      quickchartButtonEl.classList.add('colab-df-quickchart-complete');\n",
              "    }\n",
              "    (() => {\n",
              "      let quickchartButtonEl =\n",
              "        document.querySelector('#df-37f1568f-c311-4eae-850a-30ee1721706b button');\n",
              "      quickchartButtonEl.style.display =\n",
              "        google.colab.kernel.accessAllowed ? 'block' : 'none';\n",
              "    })();\n",
              "  </script>\n",
              "</div>\n",
              "\n",
              "    </div>\n",
              "  </div>\n"
            ],
            "application/vnd.google.colaboratory.intrinsic+json": {
              "type": "dataframe",
              "summary": "{\n  \"name\": \"custo_diaria\",\n  \"rows\": 2,\n  \"fields\": [\n    {\n      \"column\": \"qtd_pessoas\",\n      \"properties\": {\n        \"dtype\": \"number\",\n        \"std\": 0.005608029917281452,\n        \"min\": 0.9920690480327865,\n        \"max\": 1.0,\n        \"num_unique_values\": 2,\n        \"samples\": [\n          0.9920690480327865,\n          1.0\n        ],\n        \"semantic_type\": \"\",\n        \"description\": \"\"\n      }\n    },\n    {\n      \"column\": \"valor_diaria\",\n      \"properties\": {\n        \"dtype\": \"number\",\n        \"std\": 0.005608029917281452,\n        \"min\": 0.9920690480327865,\n        \"max\": 1.0,\n        \"num_unique_values\": 2,\n        \"samples\": [\n          1.0,\n          0.9920690480327865\n        ],\n        \"semantic_type\": \"\",\n        \"description\": \"\"\n      }\n    }\n  ]\n}"
            }
          },
          "metadata": {},
          "execution_count": 25
        }
      ]
    },
    {
      "cell_type": "markdown",
      "source": [
        "# Análise gráfica da correlação entre variáveis"
      ],
      "metadata": {
        "id": "GrGuXDUTGBIn"
      }
    },
    {
      "cell_type": "code",
      "source": [
        "correlacao = custo_diaria.corr()\n",
        "\n",
        "# seaborn para visualização\n",
        "sns.heatmap(correlacao, annot=True)"
      ],
      "metadata": {
        "colab": {
          "base_uri": "https://localhost:8080/",
          "height": 452
        },
        "id": "iZTGIG-PGEUU",
        "outputId": "2ab0f475-e8b3-46f1-e91d-6efd23a51914"
      },
      "execution_count": 27,
      "outputs": [
        {
          "output_type": "execute_result",
          "data": {
            "text/plain": [
              "<Axes: >"
            ]
          },
          "metadata": {},
          "execution_count": 27
        },
        {
          "output_type": "display_data",
          "data": {
            "text/plain": [
              "<Figure size 640x480 with 2 Axes>"
            ],
            "image/png": "[encoded data removed]"
          },
          "metadata": {}
        }
      ]
    },
    {
      "cell_type": "markdown",
      "source": [
        "# Tratamento de Dados"
      ],
      "metadata": {
        "id": "E13TQHeYGGSY"
      }
    },
    {
      "cell_type": "markdown",
      "source": [
        "Preparar os dados para serem utilizados no modelo de Regressão Linear, deve ser feito para que os dados tenham o formato de entrada solicitado pelo algoritmo"
      ],
      "metadata": {
        "id": "Zj9rWeuJMapu"
      }
    },
    {
      "cell_type": "markdown",
      "source": [
        "#Criando variável independente X"
      ],
      "metadata": {
        "id": "agRyLvxvMp0t"
      }
    },
    {
      "cell_type": "code",
      "source": [
        "# iloc = selecionar um conjunto de registros\n",
        "# : = todos os registros\n",
        "# 0 = primeira coluna\n",
        "X = custo_diaria.iloc[:,0].values\n",
        "print(X)"
      ],
      "metadata": {
        "colab": {
          "base_uri": "https://localhost:8080/"
        },
        "id": "A52aFQgKGIDc",
        "outputId": "e250dabc-b698-4b2f-fd22-a92a5ced76c2"
      },
      "execution_count": 30,
      "outputs": [
        {
          "output_type": "stream",
          "name": "stdout",
          "text": [
            "[ 1  4  6 10 13 15 18 22 25 30 40 42 45 47 50]\n"
          ]
        }
      ]
    },
    {
      "cell_type": "markdown",
      "source": [
        "# Criando variável dependente Y"
      ],
      "metadata": {
        "id": "imibgJhvNfWn"
      }
    },
    {
      "cell_type": "code",
      "source": [
        "# Valores da coluna 1\n",
        "Y = custo_diaria.iloc[:,1].values\n",
        "print(Y)"
      ],
      "metadata": {
        "colab": {
          "base_uri": "https://localhost:8080/"
        },
        "id": "vR8LCbvMNiW2",
        "outputId": "d29fea6a-5629-40ac-e117-0016c7710bcb"
      },
      "execution_count": 31,
      "outputs": [
        {
          "output_type": "stream",
          "name": "stdout",
          "text": [
            "[ 150  385  499  680  735  859  989 1075 1500 1850 2000 2089 2250 2488\n",
            " 2680]\n"
          ]
        }
      ]
    },
    {
      "cell_type": "markdown",
      "source": [
        "# Verificando tipos das variáveis"
      ],
      "metadata": {
        "id": "V4EorDp9NwT5"
      }
    },
    {
      "cell_type": "code",
      "source": [
        "type(X)"
      ],
      "metadata": {
        "colab": {
          "base_uri": "https://localhost:8080/"
        },
        "id": "HRuAX0h6NyBF",
        "outputId": "138a464b-2a4e-496e-e521-d215b37de10e"
      },
      "execution_count": 33,
      "outputs": [
        {
          "output_type": "execute_result",
          "data": {
            "text/plain": [
              "numpy.ndarray"
            ]
          },
          "metadata": {},
          "execution_count": 33
        }
      ]
    },
    {
      "cell_type": "code",
      "source": [
        "type(Y)"
      ],
      "metadata": {
        "colab": {
          "base_uri": "https://localhost:8080/"
        },
        "id": "yuPZtaamN7hJ",
        "outputId": "55f72d2e-295d-4586-cddd-4eece356ab70"
      },
      "execution_count": 34,
      "outputs": [
        {
          "output_type": "execute_result",
          "data": {
            "text/plain": [
              "numpy.ndarray"
            ]
          },
          "metadata": {},
          "execution_count": 34
        }
      ]
    },
    {
      "cell_type": "code",
      "source": [
        "X.shape"
      ],
      "metadata": {
        "colab": {
          "base_uri": "https://localhost:8080/"
        },
        "id": "PzL2hDr6N-_x",
        "outputId": "edd3e8ab-e008-44ef-9007-f80ef6f1a8db"
      },
      "execution_count": 35,
      "outputs": [
        {
          "output_type": "execute_result",
          "data": {
            "text/plain": [
              "(15,)"
            ]
          },
          "metadata": {},
          "execution_count": 35
        }
      ]
    },
    {
      "cell_type": "markdown",
      "source": [
        "# Transformando array em matriz"
      ],
      "metadata": {
        "id": "rueljEZfOEFR"
      }
    },
    {
      "cell_type": "code",
      "source": [
        "X = X.reshape(-1,1)"
      ],
      "metadata": {
        "id": "my6wl7M0OFid"
      },
      "execution_count": 49,
      "outputs": []
    },
    {
      "cell_type": "code",
      "source": [
        "X.shape"
      ],
      "metadata": {
        "colab": {
          "base_uri": "https://localhost:8080/"
        },
        "id": "BSyJQAI1Ohfb",
        "outputId": "1c2bbb70-bf25-4f76-c38d-1b645387b73e"
      },
      "execution_count": 50,
      "outputs": [
        {
          "output_type": "execute_result",
          "data": {
            "text/plain": [
              "(15, 1)"
            ]
          },
          "metadata": {},
          "execution_count": 50
        }
      ]
    },
    {
      "cell_type": "markdown",
      "source": [
        "# Criando modelo de Machine Learning"
      ],
      "metadata": {
        "id": "_OTGSwmmOm2r"
      }
    },
    {
      "cell_type": "code",
      "source": [
        "from sklearn.linear_model import LinearRegression\n",
        "predicao_custo_diaria = LinearRegression()"
      ],
      "metadata": {
        "id": "aTYOawAbOpAd"
      },
      "execution_count": 52,
      "outputs": []
    },
    {
      "cell_type": "code",
      "source": [
        "type(predicao_custo_diaria)"
      ],
      "metadata": {
        "colab": {
          "base_uri": "https://localhost:8080/",
          "height": 187
        },
        "id": "Fkd7diUSO768",
        "outputId": "6b27ff06-1a2d-47ed-a8eb-d9a5fb1ff4a5"
      },
      "execution_count": 53,
      "outputs": [
        {
          "output_type": "execute_result",
          "data": {
            "text/plain": [
              "sklearn.linear_model._base.LinearRegression"
            ],
            "text/html": [
              "<div style=\"max-width:800px; border: 1px solid var(--colab-border-color);\"><style>\n",
              "      pre.function-repr-contents {\n",
              "        overflow-x: auto;\n",
              "        padding: 8px 12px;\n",
              "        max-height: 500px;\n",
              "      }\n",
              "\n",
              "      pre.function-repr-contents.function-repr-contents-collapsed {\n",
              "        cursor: pointer;\n",
              "        max-height: 100px;\n",
              "      }\n",
              "    </style>\n",
              "    <pre style=\"white-space: initial; background:\n",
              "         var(--colab-secondary-surface-color); padding: 8px 12px;\n",
              "         border-bottom: 1px solid var(--colab-border-color);\"><b>sklearn.linear_model._base.LinearRegression</b><br/>def __init__(*, fit_intercept=True, copy_X=True, n_jobs=None, positive=False)</pre><pre class=\"function-repr-contents function-repr-contents-collapsed\" style=\"\"><a class=\"filepath\" style=\"display:none\" href=\"#\">/usr/local/lib/python3.11/dist-packages/sklearn/linear_model/_base.py</a>Ordinary least squares Linear Regression.\n",
              "\n",
              "LinearRegression fits a linear model with coefficients w = (w1, ..., wp)\n",
              "to minimize the residual sum of squares between the observed targets in\n",
              "the dataset, and the targets predicted by the linear approximation.\n",
              "\n",
              "Parameters\n",
              "----------\n",
              "fit_intercept : bool, default=True\n",
              "    Whether to calculate the intercept for this model. If set\n",
              "    to False, no intercept will be used in calculations\n",
              "    (i.e. data is expected to be centered).\n",
              "\n",
              "copy_X : bool, default=True\n",
              "    If True, X will be copied; else, it may be overwritten.\n",
              "\n",
              "n_jobs : int, default=None\n",
              "    The number of jobs to use for the computation. This will only provide\n",
              "    speedup in case of sufficiently large problems, that is if firstly\n",
              "    `n_targets &gt; 1` and secondly `X` is sparse or if `positive` is set\n",
              "    to `True`. ``None`` means 1 unless in a\n",
              "    :obj:`joblib.parallel_backend` context. ``-1`` means using all\n",
              "    processors. See :term:`Glossary &lt;n_jobs&gt;` for more details.\n",
              "\n",
              "positive : bool, default=False\n",
              "    When set to ``True``, forces the coefficients to be positive. This\n",
              "    option is only supported for dense arrays.\n",
              "\n",
              "    .. versionadded:: 0.24\n",
              "\n",
              "Attributes\n",
              "----------\n",
              "coef_ : array of shape (n_features, ) or (n_targets, n_features)\n",
              "    Estimated coefficients for the linear regression problem.\n",
              "    If multiple targets are passed during the fit (y 2D), this\n",
              "    is a 2D array of shape (n_targets, n_features), while if only\n",
              "    one target is passed, this is a 1D array of length n_features.\n",
              "\n",
              "rank_ : int\n",
              "    Rank of matrix `X`. Only available when `X` is dense.\n",
              "\n",
              "singular_ : array of shape (min(X, y),)\n",
              "    Singular values of `X`. Only available when `X` is dense.\n",
              "\n",
              "intercept_ : float or array of shape (n_targets,)\n",
              "    Independent term in the linear model. Set to 0.0 if\n",
              "    `fit_intercept = False`.\n",
              "\n",
              "n_features_in_ : int\n",
              "    Number of features seen during :term:`fit`.\n",
              "\n",
              "    .. versionadded:: 0.24\n",
              "\n",
              "feature_names_in_ : ndarray of shape (`n_features_in_`,)\n",
              "    Names of features seen during :term:`fit`. Defined only when `X`\n",
              "    has feature names that are all strings.\n",
              "\n",
              "    .. versionadded:: 1.0\n",
              "\n",
              "See Also\n",
              "--------\n",
              "Ridge : Ridge regression addresses some of the\n",
              "    problems of Ordinary Least Squares by imposing a penalty on the\n",
              "    size of the coefficients with l2 regularization.\n",
              "Lasso : The Lasso is a linear model that estimates\n",
              "    sparse coefficients with l1 regularization.\n",
              "ElasticNet : Elastic-Net is a linear regression\n",
              "    model trained with both l1 and l2 -norm regularization of the\n",
              "    coefficients.\n",
              "\n",
              "Notes\n",
              "-----\n",
              "From the implementation point of view, this is just plain Ordinary\n",
              "Least Squares (scipy.linalg.lstsq) or Non Negative Least Squares\n",
              "(scipy.optimize.nnls) wrapped as a predictor object.\n",
              "\n",
              "Examples\n",
              "--------\n",
              "&gt;&gt;&gt; import numpy as np\n",
              "&gt;&gt;&gt; from sklearn.linear_model import LinearRegression\n",
              "&gt;&gt;&gt; X = np.array([[1, 1], [1, 2], [2, 2], [2, 3]])\n",
              "&gt;&gt;&gt; # y = 1 * x_0 + 2 * x_1 + 3\n",
              "&gt;&gt;&gt; y = np.dot(X, np.array([1, 2])) + 3\n",
              "&gt;&gt;&gt; reg = LinearRegression().fit(X, y)\n",
              "&gt;&gt;&gt; reg.score(X, y)\n",
              "1.0\n",
              "&gt;&gt;&gt; reg.coef_\n",
              "array([1., 2.])\n",
              "&gt;&gt;&gt; reg.intercept_\n",
              "np.float64(3.0...)\n",
              "&gt;&gt;&gt; reg.predict(np.array([[3, 5]]))\n",
              "array([16.])</pre>\n",
              "      <script>\n",
              "      if (google.colab.kernel.accessAllowed && google.colab.files && google.colab.files.view) {\n",
              "        for (const element of document.querySelectorAll('.filepath')) {\n",
              "          element.style.display = 'block'\n",
              "          element.onclick = (event) => {\n",
              "            event.preventDefault();\n",
              "            event.stopPropagation();\n",
              "            google.colab.files.view(element.textContent, 457);\n",
              "          };\n",
              "        }\n",
              "      }\n",
              "      for (const element of document.querySelectorAll('.function-repr-contents')) {\n",
              "        element.onclick = (event) => {\n",
              "          event.preventDefault();\n",
              "          event.stopPropagation();\n",
              "          element.classList.toggle('function-repr-contents-collapsed');\n",
              "        };\n",
              "      }\n",
              "      </script>\n",
              "      </div>"
            ]
          },
          "metadata": {},
          "execution_count": 53
        }
      ]
    },
    {
      "cell_type": "markdown",
      "source": [
        "# Realizando o treinamento do modelo"
      ],
      "metadata": {
        "id": "4uJahJZXPIR9"
      }
    },
    {
      "cell_type": "code",
      "source": [
        "predicao_custo_diaria.fit(X, Y)"
      ],
      "metadata": {
        "colab": {
          "base_uri": "https://localhost:8080/",
          "height": 80
        },
        "id": "WsG9Egj6PKNN",
        "outputId": "7cf08df0-9d06-452b-c860-c5d9d4f16cf4"
      },
      "execution_count": 54,
      "outputs": [
        {
          "output_type": "execute_result",
          "data": {
            "text/plain": [
              "LinearRegression()"
            ],
            "text/html": [
              "<style>#sk-container-id-1 {\n",
              "  /* Definition of color scheme common for light and dark mode */\n",
              "  --sklearn-color-text: #000;\n",
              "  --sklearn-color-text-muted: #666;\n",
              "  --sklearn-color-line: gray;\n",
              "  /* Definition of color scheme for unfitted estimators */\n",
              "  --sklearn-color-unfitted-level-0: #fff5e6;\n",
              "  --sklearn-color-unfitted-level-1: #f6e4d2;\n",
              "  --sklearn-color-unfitted-level-2: #ffe0b3;\n",
              "  --sklearn-color-unfitted-level-3: chocolate;\n",
              "  /* Definition of color scheme for fitted estimators */\n",
              "  --sklearn-color-fitted-level-0: #f0f8ff;\n",
              "  --sklearn-color-fitted-level-1: #d4ebff;\n",
              "  --sklearn-color-fitted-level-2: #b3dbfd;\n",
              "  --sklearn-color-fitted-level-3: cornflowerblue;\n",
              "\n",
              "  /* Specific color for light theme */\n",
              "  --sklearn-color-text-on-default-background: var(--sg-text-color, var(--theme-code-foreground, var(--jp-content-font-color1, black)));\n",
              "  --sklearn-color-background: var(--sg-background-color, var(--theme-background, var(--jp-layout-color0, white)));\n",
              "  --sklearn-color-border-box: var(--sg-text-color, var(--theme-code-foreground, var(--jp-content-font-color1, black)));\n",
              "  --sklearn-color-icon: #696969;\n",
              "\n",
              "  @media (prefers-color-scheme: dark) {\n",
              "    /* Redefinition of color scheme for dark theme */\n",
              "    --sklearn-color-text-on-default-background: var(--sg-text-color, var(--theme-code-foreground, var(--jp-content-font-color1, white)));\n",
              "    --sklearn-color-background: var(--sg-background-color, var(--theme-background, var(--jp-layout-color0, #111)));\n",
              "    --sklearn-color-border-box: var(--sg-text-color, var(--theme-code-foreground, var(--jp-content-font-color1, white)));\n",
              "    --sklearn-color-icon: #878787;\n",
              "  }\n",
              "}\n",
              "\n",
              "#sk-container-id-1 {\n",
              "  color: var(--sklearn-color-text);\n",
              "}\n",
              "\n",
              "#sk-container-id-1 pre {\n",
              "  padding: 0;\n",
              "}\n",
              "\n",
              "#sk-container-id-1 input.sk-hidden--visually {\n",
              "  border: 0;\n",
              "  clip: rect(1px 1px 1px 1px);\n",
              "  clip: rect(1px, 1px, 1px, 1px);\n",
              "  height: 1px;\n",
              "  margin: -1px;\n",
              "  overflow: hidden;\n",
              "  padding: 0;\n",
              "  position: absolute;\n",
              "  width: 1px;\n",
              "}\n",
              "\n",
              "#sk-container-id-1 div.sk-dashed-wrapped {\n",
              "  border: 1px dashed var(--sklearn-color-line);\n",
              "  margin: 0 0.4em 0.5em 0.4em;\n",
              "  box-sizing: border-box;\n",
              "  padding-bottom: 0.4em;\n",
              "  background-color: var(--sklearn-color-background);\n",
              "}\n",
              "\n",
              "#sk-container-id-1 div.sk-container {\n",
              "  /* jupyter's `normalize.less` sets `[hidden] { display: none; }`\n",
              "     but bootstrap.min.css set `[hidden] { display: none !important; }`\n",
              "     so we also need the `!important` here to be able to override the\n",
              "     default hidden behavior on the sphinx rendered scikit-learn.org.\n",
              "     See: https://github.com/scikit-learn/scikit-learn/issues/21755 */\n",
              "  display: inline-block !important;\n",
              "  position: relative;\n",
              "}\n",
              "\n",
              "#sk-container-id-1 div.sk-text-repr-fallback {\n",
              "  display: none;\n",
              "}\n",
              "\n",
              "div.sk-parallel-item,\n",
              "div.sk-serial,\n",
              "div.sk-item {\n",
              "  /* draw centered vertical line to link estimators */\n",
              "  background-image: linear-gradient(var(--sklearn-color-text-on-default-background), var(--sklearn-color-text-on-default-background));\n",
              "  background-size: 2px 100%;\n",
              "  background-repeat: no-repeat;\n",
              "  background-position: center center;\n",
              "}\n",
              "\n",
              "/* Parallel-specific style estimator block */\n",
              "\n",
              "#sk-container-id-1 div.sk-parallel-item::after {\n",
              "  content: \"\";\n",
              "  width: 100%;\n",
              "  border-bottom: 2px solid var(--sklearn-color-text-on-default-background);\n",
              "  flex-grow: 1;\n",
              "}\n",
              "\n",
              "#sk-container-id-1 div.sk-parallel {\n",
              "  display: flex;\n",
              "  align-items: stretch;\n",
              "  justify-content: center;\n",
              "  background-color: var(--sklearn-color-background);\n",
              "  position: relative;\n",
              "}\n",
              "\n",
              "#sk-container-id-1 div.sk-parallel-item {\n",
              "  display: flex;\n",
              "  flex-direction: column;\n",
              "}\n",
              "\n",
              "#sk-container-id-1 div.sk-parallel-item:first-child::after {\n",
              "  align-self: flex-end;\n",
              "  width: 50%;\n",
              "}\n",
              "\n",
              "#sk-container-id-1 div.sk-parallel-item:last-child::after {\n",
              "  align-self: flex-start;\n",
              "  width: 50%;\n",
              "}\n",
              "\n",
              "#sk-container-id-1 div.sk-parallel-item:only-child::after {\n",
              "  width: 0;\n",
              "}\n",
              "\n",
              "/* Serial-specific style estimator block */\n",
              "\n",
              "#sk-container-id-1 div.sk-serial {\n",
              "  display: flex;\n",
              "  flex-direction: column;\n",
              "  align-items: center;\n",
              "  background-color: var(--sklearn-color-background);\n",
              "  padding-right: 1em;\n",
              "  padding-left: 1em;\n",
              "}\n",
              "\n",
              "\n",
              "/* Toggleable style: style used for estimator/Pipeline/ColumnTransformer box that is\n",
              "clickable and can be expanded/collapsed.\n",
              "- Pipeline and ColumnTransformer use this feature and define the default style\n",
              "- Estimators will overwrite some part of the style using the `sk-estimator` class\n",
              "*/\n",
              "\n",
              "/* Pipeline and ColumnTransformer style (default) */\n",
              "\n",
              "#sk-container-id-1 div.sk-toggleable {\n",
              "  /* Default theme specific background. It is overwritten whether we have a\n",
              "  specific estimator or a Pipeline/ColumnTransformer */\n",
              "  background-color: var(--sklearn-color-background);\n",
              "}\n",
              "\n",
              "/* Toggleable label */\n",
              "#sk-container-id-1 label.sk-toggleable__label {\n",
              "  cursor: pointer;\n",
              "  display: flex;\n",
              "  width: 100%;\n",
              "  margin-bottom: 0;\n",
              "  padding: 0.5em;\n",
              "  box-sizing: border-box;\n",
              "  text-align: center;\n",
              "  align-items: start;\n",
              "  justify-content: space-between;\n",
              "  gap: 0.5em;\n",
              "}\n",
              "\n",
              "#sk-container-id-1 label.sk-toggleable__label .caption {\n",
              "  font-size: 0.6rem;\n",
              "  font-weight: lighter;\n",
              "  color: var(--sklearn-color-text-muted);\n",
              "}\n",
              "\n",
              "#sk-container-id-1 label.sk-toggleable__label-arrow:before {\n",
              "  /* Arrow on the left of the label */\n",
              "  content: \"▸\";\n",
              "  float: left;\n",
              "  margin-right: 0.25em;\n",
              "  color: var(--sklearn-color-icon);\n",
              "}\n",
              "\n",
              "#sk-container-id-1 label.sk-toggleable__label-arrow:hover:before {\n",
              "  color: var(--sklearn-color-text);\n",
              "}\n",
              "\n",
              "/* Toggleable content - dropdown */\n",
              "\n",
              "#sk-container-id-1 div.sk-toggleable__content {\n",
              "  max-height: 0;\n",
              "  max-width: 0;\n",
              "  overflow: hidden;\n",
              "  text-align: left;\n",
              "  /* unfitted */\n",
              "  background-color: var(--sklearn-color-unfitted-level-0);\n",
              "}\n",
              "\n",
              "#sk-container-id-1 div.sk-toggleable__content.fitted {\n",
              "  /* fitted */\n",
              "  background-color: var(--sklearn-color-fitted-level-0);\n",
              "}\n",
              "\n",
              "#sk-container-id-1 div.sk-toggleable__content pre {\n",
              "  margin: 0.2em;\n",
              "  border-radius: 0.25em;\n",
              "  color: var(--sklearn-color-text);\n",
              "  /* unfitted */\n",
              "  background-color: var(--sklearn-color-unfitted-level-0);\n",
              "}\n",
              "\n",
              "#sk-container-id-1 div.sk-toggleable__content.fitted pre {\n",
              "  /* unfitted */\n",
              "  background-color: var(--sklearn-color-fitted-level-0);\n",
              "}\n",
              "\n",
              "#sk-container-id-1 input.sk-toggleable__control:checked~div.sk-toggleable__content {\n",
              "  /* Expand drop-down */\n",
              "  max-height: 200px;\n",
              "  max-width: 100%;\n",
              "  overflow: auto;\n",
              "}\n",
              "\n",
              "#sk-container-id-1 input.sk-toggleable__control:checked~label.sk-toggleable__label-arrow:before {\n",
              "  content: \"▾\";\n",
              "}\n",
              "\n",
              "/* Pipeline/ColumnTransformer-specific style */\n",
              "\n",
              "#sk-container-id-1 div.sk-label input.sk-toggleable__control:checked~label.sk-toggleable__label {\n",
              "  color: var(--sklearn-color-text);\n",
              "  background-color: var(--sklearn-color-unfitted-level-2);\n",
              "}\n",
              "\n",
              "#sk-container-id-1 div.sk-label.fitted input.sk-toggleable__control:checked~label.sk-toggleable__label {\n",
              "  background-color: var(--sklearn-color-fitted-level-2);\n",
              "}\n",
              "\n",
              "/* Estimator-specific style */\n",
              "\n",
              "/* Colorize estimator box */\n",
              "#sk-container-id-1 div.sk-estimator input.sk-toggleable__control:checked~label.sk-toggleable__label {\n",
              "  /* unfitted */\n",
              "  background-color: var(--sklearn-color-unfitted-level-2);\n",
              "}\n",
              "\n",
              "#sk-container-id-1 div.sk-estimator.fitted input.sk-toggleable__control:checked~label.sk-toggleable__label {\n",
              "  /* fitted */\n",
              "  background-color: var(--sklearn-color-fitted-level-2);\n",
              "}\n",
              "\n",
              "#sk-container-id-1 div.sk-label label.sk-toggleable__label,\n",
              "#sk-container-id-1 div.sk-label label {\n",
              "  /* The background is the default theme color */\n",
              "  color: var(--sklearn-color-text-on-default-background);\n",
              "}\n",
              "\n",
              "/* On hover, darken the color of the background */\n",
              "#sk-container-id-1 div.sk-label:hover label.sk-toggleable__label {\n",
              "  color: var(--sklearn-color-text);\n",
              "  background-color: var(--sklearn-color-unfitted-level-2);\n",
              "}\n",
              "\n",
              "/* Label box, darken color on hover, fitted */\n",
              "#sk-container-id-1 div.sk-label.fitted:hover label.sk-toggleable__label.fitted {\n",
              "  color: var(--sklearn-color-text);\n",
              "  background-color: var(--sklearn-color-fitted-level-2);\n",
              "}\n",
              "\n",
              "/* Estimator label */\n",
              "\n",
              "#sk-container-id-1 div.sk-label label {\n",
              "  font-family: monospace;\n",
              "  font-weight: bold;\n",
              "  display: inline-block;\n",
              "  line-height: 1.2em;\n",
              "}\n",
              "\n",
              "#sk-container-id-1 div.sk-label-container {\n",
              "  text-align: center;\n",
              "}\n",
              "\n",
              "/* Estimator-specific */\n",
              "#sk-container-id-1 div.sk-estimator {\n",
              "  font-family: monospace;\n",
              "  border: 1px dotted var(--sklearn-color-border-box);\n",
              "  border-radius: 0.25em;\n",
              "  box-sizing: border-box;\n",
              "  margin-bottom: 0.5em;\n",
              "  /* unfitted */\n",
              "  background-color: var(--sklearn-color-unfitted-level-0);\n",
              "}\n",
              "\n",
              "#sk-container-id-1 div.sk-estimator.fitted {\n",
              "  /* fitted */\n",
              "  background-color: var(--sklearn-color-fitted-level-0);\n",
              "}\n",
              "\n",
              "/* on hover */\n",
              "#sk-container-id-1 div.sk-estimator:hover {\n",
              "  /* unfitted */\n",
              "  background-color: var(--sklearn-color-unfitted-level-2);\n",
              "}\n",
              "\n",
              "#sk-container-id-1 div.sk-estimator.fitted:hover {\n",
              "  /* fitted */\n",
              "  background-color: var(--sklearn-color-fitted-level-2);\n",
              "}\n",
              "\n",
              "/* Specification for estimator info (e.g. \"i\" and \"?\") */\n",
              "\n",
              "/* Common style for \"i\" and \"?\" */\n",
              "\n",
              ".sk-estimator-doc-link,\n",
              "a:link.sk-estimator-doc-link,\n",
              "a:visited.sk-estimator-doc-link {\n",
              "  float: right;\n",
              "  font-size: smaller;\n",
              "  line-height: 1em;\n",
              "  font-family: monospace;\n",
              "  background-color: var(--sklearn-color-background);\n",
              "  border-radius: 1em;\n",
              "  height: 1em;\n",
              "  width: 1em;\n",
              "  text-decoration: none !important;\n",
              "  margin-left: 0.5em;\n",
              "  text-align: center;\n",
              "  /* unfitted */\n",
              "  border: var(--sklearn-color-unfitted-level-1) 1pt solid;\n",
              "  color: var(--sklearn-color-unfitted-level-1);\n",
              "}\n",
              "\n",
              ".sk-estimator-doc-link.fitted,\n",
              "a:link.sk-estimator-doc-link.fitted,\n",
              "a:visited.sk-estimator-doc-link.fitted {\n",
              "  /* fitted */\n",
              "  border: var(--sklearn-color-fitted-level-1) 1pt solid;\n",
              "  color: var(--sklearn-color-fitted-level-1);\n",
              "}\n",
              "\n",
              "/* On hover */\n",
              "div.sk-estimator:hover .sk-estimator-doc-link:hover,\n",
              ".sk-estimator-doc-link:hover,\n",
              "div.sk-label-container:hover .sk-estimator-doc-link:hover,\n",
              ".sk-estimator-doc-link:hover {\n",
              "  /* unfitted */\n",
              "  background-color: var(--sklearn-color-unfitted-level-3);\n",
              "  color: var(--sklearn-color-background);\n",
              "  text-decoration: none;\n",
              "}\n",
              "\n",
              "div.sk-estimator.fitted:hover .sk-estimator-doc-link.fitted:hover,\n",
              ".sk-estimator-doc-link.fitted:hover,\n",
              "div.sk-label-container:hover .sk-estimator-doc-link.fitted:hover,\n",
              ".sk-estimator-doc-link.fitted:hover {\n",
              "  /* fitted */\n",
              "  background-color: var(--sklearn-color-fitted-level-3);\n",
              "  color: var(--sklearn-color-background);\n",
              "  text-decoration: none;\n",
              "}\n",
              "\n",
              "/* Span, style for the box shown on hovering the info icon */\n",
              ".sk-estimator-doc-link span {\n",
              "  display: none;\n",
              "  z-index: 9999;\n",
              "  position: relative;\n",
              "  font-weight: normal;\n",
              "  right: .2ex;\n",
              "  padding: .5ex;\n",
              "  margin: .5ex;\n",
              "  width: min-content;\n",
              "  min-width: 20ex;\n",
              "  max-width: 50ex;\n",
              "  color: var(--sklearn-color-text);\n",
              "  box-shadow: 2pt 2pt 4pt #999;\n",
              "  /* unfitted */\n",
              "  background: var(--sklearn-color-unfitted-level-0);\n",
              "  border: .5pt solid var(--sklearn-color-unfitted-level-3);\n",
              "}\n",
              "\n",
              ".sk-estimator-doc-link.fitted span {\n",
              "  /* fitted */\n",
              "  background: var(--sklearn-color-fitted-level-0);\n",
              "  border: var(--sklearn-color-fitted-level-3);\n",
              "}\n",
              "\n",
              ".sk-estimator-doc-link:hover span {\n",
              "  display: block;\n",
              "}\n",
              "\n",
              "/* \"?\"-specific style due to the `<a>` HTML tag */\n",
              "\n",
              "#sk-container-id-1 a.estimator_doc_link {\n",
              "  float: right;\n",
              "  font-size: 1rem;\n",
              "  line-height: 1em;\n",
              "  font-family: monospace;\n",
              "  background-color: var(--sklearn-color-background);\n",
              "  border-radius: 1rem;\n",
              "  height: 1rem;\n",
              "  width: 1rem;\n",
              "  text-decoration: none;\n",
              "  /* unfitted */\n",
              "  color: var(--sklearn-color-unfitted-level-1);\n",
              "  border: var(--sklearn-color-unfitted-level-1) 1pt solid;\n",
              "}\n",
              "\n",
              "#sk-container-id-1 a.estimator_doc_link.fitted {\n",
              "  /* fitted */\n",
              "  border: var(--sklearn-color-fitted-level-1) 1pt solid;\n",
              "  color: var(--sklearn-color-fitted-level-1);\n",
              "}\n",
              "\n",
              "/* On hover */\n",
              "#sk-container-id-1 a.estimator_doc_link:hover {\n",
              "  /* unfitted */\n",
              "  background-color: var(--sklearn-color-unfitted-level-3);\n",
              "  color: var(--sklearn-color-background);\n",
              "  text-decoration: none;\n",
              "}\n",
              "\n",
              "#sk-container-id-1 a.estimator_doc_link.fitted:hover {\n",
              "  /* fitted */\n",
              "  background-color: var(--sklearn-color-fitted-level-3);\n",
              "}\n",
              "</style><div id=\"sk-container-id-1\" class=\"sk-top-container\"><div class=\"sk-text-repr-fallback\"><pre>LinearRegression()</pre><b>In a Jupyter environment, please rerun this cell to show the HTML representation or trust the notebook. <br />On GitHub, the HTML representation is unable to render, please try loading this page with nbviewer.org.</b></div><div class=\"sk-container\" hidden><div class=\"sk-item\"><div class=\"sk-estimator fitted sk-toggleable\"><input class=\"sk-toggleable__control sk-hidden--visually\" id=\"sk-estimator-id-1\" type=\"checkbox\" checked><label for=\"sk-estimator-id-1\" class=\"sk-toggleable__label fitted sk-toggleable__label-arrow\"><div><div>LinearRegression</div></div><div><a class=\"sk-estimator-doc-link fitted\" rel=\"noreferrer\" target=\"_blank\" href=\"https://scikit-learn.org/1.6/modules/generated/sklearn.linear_model.LinearRegression.html\">?<span>Documentation for LinearRegression</span></a><span class=\"sk-estimator-doc-link fitted\">i<span>Fitted</span></span></div></label><div class=\"sk-toggleable__content fitted\"><pre>LinearRegression()</pre></div> </div></div></div></div>"
            ]
          },
          "metadata": {},
          "execution_count": 54
        }
      ]
    },
    {
      "cell_type": "markdown",
      "source": [
        "# Calculando a constante alfa - intercept"
      ],
      "metadata": {
        "id": "5I1Z0M32PX--"
      }
    },
    {
      "cell_type": "code",
      "source": [
        "predicao_custo_diaria.intercept_"
      ],
      "metadata": {
        "colab": {
          "base_uri": "https://localhost:8080/"
        },
        "id": "zkt2eGVZPcg1",
        "outputId": "e64d6779-0c1f-4577-b1a8-f559aa0f643e"
      },
      "execution_count": 55,
      "outputs": [
        {
          "output_type": "execute_result",
          "data": {
            "text/plain": [
              "np.float64(155.91874556932066)"
            ]
          },
          "metadata": {},
          "execution_count": 55
        }
      ]
    },
    {
      "cell_type": "markdown",
      "source": [
        "# Coeficiente angular da reta - coef"
      ],
      "metadata": {
        "id": "CYfg6WCfPrp_"
      }
    },
    {
      "cell_type": "code",
      "source": [
        "predicao_custo_diaria.coef_"
      ],
      "metadata": {
        "colab": {
          "base_uri": "https://localhost:8080/"
        },
        "id": "uPO3VDbVPvw0",
        "outputId": "adc2d478-d36a-4116-ebc6-8d3f6f07d85b"
      },
      "execution_count": 56,
      "outputs": [
        {
          "output_type": "execute_result",
          "data": {
            "text/plain": [
              "array([48.61472504])"
            ]
          },
          "metadata": {},
          "execution_count": 56
        }
      ]
    },
    {
      "cell_type": "markdown",
      "source": [
        "![image.png](data:image/png;base64,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)"
      ],
      "metadata": {
        "id": "WKtNPpgbP7pQ"
      }
    },
    {
      "cell_type": "markdown",
      "source": [
        "# Realizar predições dos valores da diária"
      ],
      "metadata": {
        "id": "7bQ0q4fnQGkA"
      }
    },
    {
      "cell_type": "markdown",
      "source": [
        "Baseado no número de pessoas, vamos calcular o valor da diária"
      ],
      "metadata": {
        "id": "bjTGIn_SQKkw"
      }
    },
    {
      "cell_type": "code",
      "source": [
        "previsao_valores = predicao_custo_diaria.predict(X)"
      ],
      "metadata": {
        "id": "Sp6E0M2HQJat"
      },
      "execution_count": 58,
      "outputs": []
    },
    {
      "cell_type": "code",
      "source": [
        "X"
      ],
      "metadata": {
        "colab": {
          "base_uri": "https://localhost:8080/"
        },
        "id": "J-V467AmRFdD",
        "outputId": "e655c791-5e9c-49c5-849e-550cf2795079"
      },
      "execution_count": 59,
      "outputs": [
        {
          "output_type": "execute_result",
          "data": {
            "text/plain": [
              "array([[ 1],\n",
              "       [ 4],\n",
              "       [ 6],\n",
              "       [10],\n",
              "       [13],\n",
              "       [15],\n",
              "       [18],\n",
              "       [22],\n",
              "       [25],\n",
              "       [30],\n",
              "       [40],\n",
              "       [42],\n",
              "       [45],\n",
              "       [47],\n",
              "       [50]])"
            ]
          },
          "metadata": {},
          "execution_count": 59
        }
      ]
    },
    {
      "cell_type": "code",
      "source": [
        "# Visualização da previsão para cada n de pessoas\n",
        "previsao_valores"
      ],
      "metadata": {
        "colab": {
          "base_uri": "https://localhost:8080/"
        },
        "id": "KKYU6yAqQ92F",
        "outputId": "a35b3471-a44d-4064-a1fd-58bec13121f9"
      },
      "execution_count": 60,
      "outputs": [
        {
          "output_type": "execute_result",
          "data": {
            "text/plain": [
              "array([ 204.53347061,  350.37764575,  447.60709584,  642.06599602,\n",
              "        787.91017115,  885.13962124, 1030.98379637, 1225.44269655,\n",
              "       1371.28687169, 1614.36049691, 2100.50774736, 2197.73719745,\n",
              "       2343.58137258, 2440.81082267, 2586.65499781])"
            ]
          },
          "metadata": {},
          "execution_count": 60
        }
      ]
    },
    {
      "cell_type": "markdown",
      "source": [
        "# Visualizando no gráfico a disposição dos dados\n",
        "Para visualizar no gráfico, precisamos formatar os dados para vetor, por isso a função ravel()"
      ],
      "metadata": {
        "id": "YRuW-E0wRJ00"
      }
    },
    {
      "cell_type": "markdown",
      "source": [
        "# Gerando visualização gráfica"
      ],
      "metadata": {
        "id": "zKU-nsKWRZMX"
      }
    },
    {
      "cell_type": "code",
      "source": [
        "# Gráfico 1\n",
        "grafico = px.scatter(x = X.ravel(), y=Y)\n",
        "grafico.show()"
      ],
      "metadata": {
        "colab": {
          "base_uri": "https://localhost:8080/",
          "height": 542
        },
        "id": "RCO49VsxRWsU",
        "outputId": "b9d96d5d-21d0-46c7-80fc-75b9b0fcd4ac"
      },
      "execution_count": 68,
      "outputs": [
        {
          "output_type": "display_data",
          "data": {
            "text/html": [
              "<html>\n",
              "<head><meta charset=\"utf-8\" /></head>\n",
              "<body>\n",
              "    <div>            <script src=\"https://cdnjs.cloudflare.com/ajax/libs/mathjax/2.7.5/MathJax.js?config=TeX-AMS-MML_SVG\"></script><script type=\"text/javascript\">if (window.MathJax && window.MathJax.Hub && window.MathJax.Hub.Config) {window.MathJax.Hub.Config({SVG: {font: \"STIX-Web\"}});}</script>                <script type=\"text/javascript\">window.PlotlyConfig = {MathJaxConfig: 'local'};</script>\n",
              "        <script charset=\"utf-8\" src=\"https://cdn.plot.ly/plotly-2.35.2.min.js\"></script>                <div id=\"00b1cd66-e824-4d28-91de-0979a840893b\" class=\"plotly-graph-div\" style=\"height:525px; width:100%;\"></div>            <script type=\"text/javascript\">                                    window.PLOTLYENV=window.PLOTLYENV || {};                                    if (document.getElementById(\"00b1cd66-e824-4d28-91de-0979a840893b\")) {                    Plotly.newPlot(                        \"00b1cd66-e824-4d28-91de-0979a840893b\",                        [{\"hovertemplate\":\"x=%{x}\\u003cbr\\u003ey=%{y}\\u003cextra\\u003e\\u003c\\u002fextra\\u003e\",\"legendgroup\":\"\",\"marker\":{\"color\":\"#636efa\",\"symbol\":\"circle\"},\"mode\":\"markers\",\"name\":\"\",\"orientation\":\"v\",\"showlegend\":false,\"x\":[1,4,6,10,13,15,18,22,25,30,40,42,45,47,50],\"xaxis\":\"x\",\"y\":[150,385,499,680,735,859,989,1075,1500,1850,2000,2089,2250,2488,2680],\"yaxis\":\"y\",\"type\":\"scatter\"}],                        {\"template\":{\"data\":{\"histogram2dcontour\":[{\"type\":\"histogram2dcontour\",\"colorbar\":{\"outlinewidth\":0,\"ticks\":\"\"},\"colorscale\":[[0.0,\"#0d0887\"],[0.1111111111111111,\"#46039f\"],[0.2222222222222222,\"#7201a8\"],[0.3333333333333333,\"#9c179e\"],[0.4444444444444444,\"#bd3786\"],[0.5555555555555556,\"#d8576b\"],[0.6666666666666666,\"#ed7953\"],[0.7777777777777778,\"#fb9f3a\"],[0.8888888888888888,\"#fdca26\"],[1.0,\"#f0f921\"]]}],\"choropleth\":[{\"type\":\"choropleth\",\"colorbar\":{\"outlinewidth\":0,\"ticks\":\"\"}}],\"histogram2d\":[{\"type\":\"histogram2d\",\"colorbar\":{\"outlinewidth\":0,\"ticks\":\"\"},\"colorscale\":[[0.0,\"#0d0887\"],[0.1111111111111111,\"#46039f\"],[0.2222222222222222,\"#7201a8\"],[0.3333333333333333,\"#9c179e\"],[0.4444444444444444,\"#bd3786\"],[0.5555555555555556,\"#d8576b\"],[0.6666666666666666,\"#ed7953\"],[0.7777777777777778,\"#fb9f3a\"],[0.8888888888888888,\"#fdca26\"],[1.0,\"#f0f921\"]]}],\"heatmap\":[{\"type\":\"heatmap\",\"colorbar\":{\"outlinewidth\":0,\"ticks\":\"\"},\"colorscale\":[[0.0,\"#0d0887\"],[0.1111111111111111,\"#46039f\"],[0.2222222222222222,\"#7201a8\"],[0.3333333333333333,\"#9c179e\"],[0.4444444444444444,\"#bd3786\"],[0.5555555555555556,\"#d8576b\"],[0.6666666666666666,\"#ed7953\"],[0.7777777777777778,\"#fb9f3a\"],[0.8888888888888888,\"#fdca26\"],[1.0,\"#f0f921\"]]}],\"heatmapgl\":[{\"type\":\"heatmapgl\",\"colorbar\":{\"outlinewidth\":0,\"ticks\":\"\"},\"colorscale\":[[0.0,\"#0d0887\"],[0.1111111111111111,\"#46039f\"],[0.2222222222222222,\"#7201a8\"],[0.3333333333333333,\"#9c179e\"],[0.4444444444444444,\"#bd3786\"],[0.5555555555555556,\"#d8576b\"],[0.6666666666666666,\"#ed7953\"],[0.7777777777777778,\"#fb9f3a\"],[0.8888888888888888,\"#fdca26\"],[1.0,\"#f0f921\"]]}],\"contourcarpet\":[{\"type\":\"contourcarpet\",\"colorbar\":{\"outlinewidth\":0,\"ticks\":\"\"}}],\"contour\":[{\"type\":\"contour\",\"colorbar\":{\"outlinewidth\":0,\"ticks\":\"\"},\"colorscale\":[[0.0,\"#0d0887\"],[0.1111111111111111,\"#46039f\"],[0.2222222222222222,\"#7201a8\"],[0.3333333333333333,\"#9c179e\"],[0.4444444444444444,\"#bd3786\"],[0.5555555555555556,\"#d8576b\"],[0.6666666666666666,\"#ed7953\"],[0.7777777777777778,\"#fb9f3a\"],[0.8888888888888888,\"#fdca26\"],[1.0,\"#f0f921\"]]}],\"surface\":[{\"type\":\"surface\",\"colorbar\":{\"outlinewidth\":0,\"ticks\":\"\"},\"colorscale\":[[0.0,\"#0d0887\"],[0.1111111111111111,\"#46039f\"],[0.2222222222222222,\"#7201a8\"],[0.3333333333333333,\"#9c179e\"],[0.4444444444444444,\"#bd3786\"],[0.5555555555555556,\"#d8576b\"],[0.6666666666666666,\"#ed7953\"],[0.7777777777777778,\"#fb9f3a\"],[0.8888888888888888,\"#fdca26\"],[1.0,\"#f0f921\"]]}],\"mesh3d\":[{\"type\":\"mesh3d\",\"colorbar\":{\"outlinewidth\":0,\"ticks\":\"\"}}],\"scatter\":[{\"fillpattern\":{\"fillmode\":\"overlay\",\"size\":10,\"solidity\":0.2},\"type\":\"scatter\"}],\"parcoords\":[{\"type\":\"parcoords\",\"line\":{\"colorbar\":{\"outlinewidth\":0,\"ticks\":\"\"}}}],\"scatterpolargl\":[{\"type\":\"scatterpolargl\",\"marker\":{\"colorbar\":{\"outlinewidth\":0,\"ticks\":\"\"}}}],\"bar\":[{\"error_x\":{\"color\":\"#2a3f5f\"},\"error_y\":{\"color\":\"#2a3f5f\"},\"marker\":{\"line\":{\"color\":\"#E5ECF6\",\"width\":0.5},\"pattern\":{\"fillmode\":\"overlay\",\"size\":10,\"solidity\":0.2}},\"type\":\"bar\"}],\"scattergeo\":[{\"type\":\"scattergeo\",\"marker\":{\"colorbar\":{\"outlinewidth\":0,\"ticks\":\"\"}}}],\"scatterpolar\":[{\"type\":\"scatterpolar\",\"marker\":{\"colorbar\":{\"outlinewidth\":0,\"ticks\":\"\"}}}],\"histogram\":[{\"marker\":{\"pattern\":{\"fillmode\":\"overlay\",\"size\":10,\"solidity\":0.2}},\"type\":\"histogram\"}],\"scattergl\":[{\"type\":\"scattergl\",\"marker\":{\"colorbar\":{\"outlinewidth\":0,\"ticks\":\"\"}}}],\"scatter3d\":[{\"type\":\"scatter3d\",\"line\":{\"colorbar\":{\"outlinewidth\":0,\"ticks\":\"\"}},\"marker\":{\"colorbar\":{\"outlinewidth\":0,\"ticks\":\"\"}}}],\"scattermapbox\":[{\"type\":\"scattermapbox\",\"marker\":{\"colorbar\":{\"outlinewidth\":0,\"ticks\":\"\"}}}],\"scatterternary\":[{\"type\":\"scatterternary\",\"marker\":{\"colorbar\":{\"outlinewidth\":0,\"ticks\":\"\"}}}],\"scattercarpet\":[{\"type\":\"scattercarpet\",\"marker\":{\"colorbar\":{\"outlinewidth\":0,\"ticks\":\"\"}}}],\"carpet\":[{\"aaxis\":{\"endlinecolor\":\"#2a3f5f\",\"gridcolor\":\"white\",\"linecolor\":\"white\",\"minorgridcolor\":\"white\",\"startlinecolor\":\"#2a3f5f\"},\"baxis\":{\"endlinecolor\":\"#2a3f5f\",\"gridcolor\":\"white\",\"linecolor\":\"white\",\"minorgridcolor\":\"white\",\"startlinecolor\":\"#2a3f5f\"},\"type\":\"carpet\"}],\"table\":[{\"cells\":{\"fill\":{\"color\":\"#EBF0F8\"},\"line\":{\"color\":\"white\"}},\"header\":{\"fill\":{\"color\":\"#C8D4E3\"},\"line\":{\"color\":\"white\"}},\"type\":\"table\"}],\"barpolar\":[{\"marker\":{\"line\":{\"color\":\"#E5ECF6\",\"width\":0.5},\"pattern\":{\"fillmode\":\"overlay\",\"size\":10,\"solidity\":0.2}},\"type\":\"barpolar\"}],\"pie\":[{\"automargin\":true,\"type\":\"pie\"}]},\"layout\":{\"autotypenumbers\":\"strict\",\"colorway\":[\"#636efa\",\"#EF553B\",\"#00cc96\",\"#ab63fa\",\"#FFA15A\",\"#19d3f3\",\"#FF6692\",\"#B6E880\",\"#FF97FF\",\"#FECB52\"],\"font\":{\"color\":\"#2a3f5f\"},\"hovermode\":\"closest\",\"hoverlabel\":{\"align\":\"left\"},\"paper_bgcolor\":\"white\",\"plot_bgcolor\":\"#E5ECF6\",\"polar\":{\"bgcolor\":\"#E5ECF6\",\"angularaxis\":{\"gridcolor\":\"white\",\"linecolor\":\"white\",\"ticks\":\"\"},\"radialaxis\":{\"gridcolor\":\"white\",\"linecolor\":\"white\",\"ticks\":\"\"}},\"ternary\":{\"bgcolor\":\"#E5ECF6\",\"aaxis\":{\"gridcolor\":\"white\",\"linecolor\":\"white\",\"ticks\":\"\"},\"baxis\":{\"gridcolor\":\"white\",\"linecolor\":\"white\",\"ticks\":\"\"},\"caxis\":{\"gridcolor\":\"white\",\"linecolor\":\"white\",\"ticks\":\"\"}},\"coloraxis\":{\"colorbar\":{\"outlinewidth\":0,\"ticks\":\"\"}},\"colorscale\":{\"sequential\":[[0.0,\"#0d0887\"],[0.1111111111111111,\"#46039f\"],[0.2222222222222222,\"#7201a8\"],[0.3333333333333333,\"#9c179e\"],[0.4444444444444444,\"#bd3786\"],[0.5555555555555556,\"#d8576b\"],[0.6666666666666666,\"#ed7953\"],[0.7777777777777778,\"#fb9f3a\"],[0.8888888888888888,\"#fdca26\"],[1.0,\"#f0f921\"]],\"sequentialminus\":[[0.0,\"#0d0887\"],[0.1111111111111111,\"#46039f\"],[0.2222222222222222,\"#7201a8\"],[0.3333333333333333,\"#9c179e\"],[0.4444444444444444,\"#bd3786\"],[0.5555555555555556,\"#d8576b\"],[0.6666666666666666,\"#ed7953\"],[0.7777777777777778,\"#fb9f3a\"],[0.8888888888888888,\"#fdca26\"],[1.0,\"#f0f921\"]],\"diverging\":[[0,\"#8e0152\"],[0.1,\"#c51b7d\"],[0.2,\"#de77ae\"],[0.3,\"#f1b6da\"],[0.4,\"#fde0ef\"],[0.5,\"#f7f7f7\"],[0.6,\"#e6f5d0\"],[0.7,\"#b8e186\"],[0.8,\"#7fbc41\"],[0.9,\"#4d9221\"],[1,\"#276419\"]]},\"xaxis\":{\"gridcolor\":\"white\",\"linecolor\":\"white\",\"ticks\":\"\",\"title\":{\"standoff\":15},\"zerolinecolor\":\"white\",\"automargin\":true,\"zerolinewidth\":2},\"yaxis\":{\"gridcolor\":\"white\",\"linecolor\":\"white\",\"ticks\":\"\",\"title\":{\"standoff\":15},\"zerolinecolor\":\"white\",\"automargin\":true,\"zerolinewidth\":2},\"scene\":{\"xaxis\":{\"backgroundcolor\":\"#E5ECF6\",\"gridcolor\":\"white\",\"linecolor\":\"white\",\"showbackground\":true,\"ticks\":\"\",\"zerolinecolor\":\"white\",\"gridwidth\":2},\"yaxis\":{\"backgroundcolor\":\"#E5ECF6\",\"gridcolor\":\"white\",\"linecolor\":\"white\",\"showbackground\":true,\"ticks\":\"\",\"zerolinecolor\":\"white\",\"gridwidth\":2},\"zaxis\":{\"backgroundcolor\":\"#E5ECF6\",\"gridcolor\":\"white\",\"linecolor\":\"white\",\"showbackground\":true,\"ticks\":\"\",\"zerolinecolor\":\"white\",\"gridwidth\":2}},\"shapedefaults\":{\"line\":{\"color\":\"#2a3f5f\"}},\"annotationdefaults\":{\"arrowcolor\":\"#2a3f5f\",\"arrowhead\":0,\"arrowwidth\":1},\"geo\":{\"bgcolor\":\"white\",\"landcolor\":\"#E5ECF6\",\"subunitcolor\":\"white\",\"showland\":true,\"showlakes\":true,\"lakecolor\":\"white\"},\"title\":{\"x\":0.05},\"mapbox\":{\"style\":\"light\"}}},\"xaxis\":{\"anchor\":\"y\",\"domain\":[0.0,1.0],\"title\":{\"text\":\"x\"}},\"yaxis\":{\"anchor\":\"x\",\"domain\":[0.0,1.0],\"title\":{\"text\":\"y\"}},\"legend\":{\"tracegroupgap\":0},\"margin\":{\"t\":60}},                        {\"responsive\": true}                    ).then(function(){\n",
              "                            \n",
              "var gd = document.getElementById('00b1cd66-e824-4d28-91de-0979a840893b');\n",
              "var x = new MutationObserver(function (mutations, observer) {{\n",
              "        var display = window.getComputedStyle(gd).display;\n",
              "        if (!display || display === 'none') {{\n",
              "            console.log([gd, 'removed!']);\n",
              "            Plotly.purge(gd);\n",
              "            observer.disconnect();\n",
              "        }}\n",
              "}});\n",
              "\n",
              "// Listen for the removal of the full notebook cells\n",
              "var notebookContainer = gd.closest('#notebook-container');\n",
              "if (notebookContainer) {{\n",
              "    x.observe(notebookContainer, {childList: true});\n",
              "}}\n",
              "\n",
              "// Listen for the clearing of the current output cell\n",
              "var outputEl = gd.closest('.output');\n",
              "if (outputEl) {{\n",
              "    x.observe(outputEl, {childList: true});\n",
              "}}\n",
              "\n",
              "                        })                };                            </script>        </div>\n",
              "</body>\n",
              "</html>"
            ]
          },
          "metadata": {}
        }
      ]
    },
    {
      "cell_type": "code",
      "source": [
        "# Gráfico 2\n",
        "grafico = px.scatter(x = X.ravel(), y=Y)\n",
        "grafico.add_scatter(x=X.ravel(), y = previsao_valores, name=\"Previsões\")\n",
        "grafico.show()"
      ],
      "metadata": {
        "colab": {
          "base_uri": "https://localhost:8080/",
          "height": 542
        },
        "id": "jnBA4OapR_EG",
        "outputId": "27864a12-ecdf-4343-84e5-eb74a0903860"
      },
      "execution_count": 69,
      "outputs": [
        {
          "output_type": "display_data",
          "data": {
            "text/html": [
              "<html>\n",
              "<head><meta charset=\"utf-8\" /></head>\n",
              "<body>\n",
              "    <div>            <script src=\"https://cdnjs.cloudflare.com/ajax/libs/mathjax/2.7.5/MathJax.js?config=TeX-AMS-MML_SVG\"></script><script type=\"text/javascript\">if (window.MathJax && window.MathJax.Hub && window.MathJax.Hub.Config) {window.MathJax.Hub.Config({SVG: {font: \"STIX-Web\"}});}</script>                <script type=\"text/javascript\">window.PlotlyConfig = {MathJaxConfig: 'local'};</script>\n",
              "        <script charset=\"utf-8\" src=\"https://cdn.plot.ly/plotly-2.35.2.min.js\"></script>                <div id=\"0e185745-5a68-4c9f-89b2-59297f581504\" class=\"plotly-graph-div\" style=\"height:525px; width:100%;\"></div>            <script type=\"text/javascript\">                                    window.PLOTLYENV=window.PLOTLYENV || {};                                    if (document.getElementById(\"0e185745-5a68-4c9f-89b2-59297f581504\")) {                    Plotly.newPlot(                        \"0e185745-5a68-4c9f-89b2-59297f581504\",                        [{\"hovertemplate\":\"x=%{x}\\u003cbr\\u003ey=%{y}\\u003cextra\\u003e\\u003c\\u002fextra\\u003e\",\"legendgroup\":\"\",\"marker\":{\"color\":\"#636efa\",\"symbol\":\"circle\"},\"mode\":\"markers\",\"name\":\"\",\"orientation\":\"v\",\"showlegend\":false,\"x\":[1,4,6,10,13,15,18,22,25,30,40,42,45,47,50],\"xaxis\":\"x\",\"y\":[150,385,499,680,735,859,989,1075,1500,1850,2000,2089,2250,2488,2680],\"yaxis\":\"y\",\"type\":\"scatter\"},{\"name\":\"Previsões\",\"x\":[1,4,6,10,13,15,18,22,25,30,40,42,45,47,50],\"y\":[204.53347061404943,350.37764574823575,447.6070958376933,642.0659960166083,787.9101711507947,885.1396212402523,1030.9837963744385,1225.4426965533537,1371.28687168754,1614.3604969111839,2100.5077473584715,2197.7371974479292,2343.5813725821154,2440.810822671573,2586.654997805759],\"type\":\"scatter\"}],                        {\"template\":{\"data\":{\"histogram2dcontour\":[{\"type\":\"histogram2dcontour\",\"colorbar\":{\"outlinewidth\":0,\"ticks\":\"\"},\"colorscale\":[[0.0,\"#0d0887\"],[0.1111111111111111,\"#46039f\"],[0.2222222222222222,\"#7201a8\"],[0.3333333333333333,\"#9c179e\"],[0.4444444444444444,\"#bd3786\"],[0.5555555555555556,\"#d8576b\"],[0.6666666666666666,\"#ed7953\"],[0.7777777777777778,\"#fb9f3a\"],[0.8888888888888888,\"#fdca26\"],[1.0,\"#f0f921\"]]}],\"choropleth\":[{\"type\":\"choropleth\",\"colorbar\":{\"outlinewidth\":0,\"ticks\":\"\"}}],\"histogram2d\":[{\"type\":\"histogram2d\",\"colorbar\":{\"outlinewidth\":0,\"ticks\":\"\"},\"colorscale\":[[0.0,\"#0d0887\"],[0.1111111111111111,\"#46039f\"],[0.2222222222222222,\"#7201a8\"],[0.3333333333333333,\"#9c179e\"],[0.4444444444444444,\"#bd3786\"],[0.5555555555555556,\"#d8576b\"],[0.6666666666666666,\"#ed7953\"],[0.7777777777777778,\"#fb9f3a\"],[0.8888888888888888,\"#fdca26\"],[1.0,\"#f0f921\"]]}],\"heatmap\":[{\"type\":\"heatmap\",\"colorbar\":{\"outlinewidth\":0,\"ticks\":\"\"},\"colorscale\":[[0.0,\"#0d0887\"],[0.1111111111111111,\"#46039f\"],[0.2222222222222222,\"#7201a8\"],[0.3333333333333333,\"#9c179e\"],[0.4444444444444444,\"#bd3786\"],[0.5555555555555556,\"#d8576b\"],[0.6666666666666666,\"#ed7953\"],[0.7777777777777778,\"#fb9f3a\"],[0.8888888888888888,\"#fdca26\"],[1.0,\"#f0f921\"]]}],\"heatmapgl\":[{\"type\":\"heatmapgl\",\"colorbar\":{\"outlinewidth\":0,\"ticks\":\"\"},\"colorscale\":[[0.0,\"#0d0887\"],[0.1111111111111111,\"#46039f\"],[0.2222222222222222,\"#7201a8\"],[0.3333333333333333,\"#9c179e\"],[0.4444444444444444,\"#bd3786\"],[0.5555555555555556,\"#d8576b\"],[0.6666666666666666,\"#ed7953\"],[0.7777777777777778,\"#fb9f3a\"],[0.8888888888888888,\"#fdca26\"],[1.0,\"#f0f921\"]]}],\"contourcarpet\":[{\"type\":\"contourcarpet\",\"colorbar\":{\"outlinewidth\":0,\"ticks\":\"\"}}],\"contour\":[{\"type\":\"contour\",\"colorbar\":{\"outlinewidth\":0,\"ticks\":\"\"},\"colorscale\":[[0.0,\"#0d0887\"],[0.1111111111111111,\"#46039f\"],[0.2222222222222222,\"#7201a8\"],[0.3333333333333333,\"#9c179e\"],[0.4444444444444444,\"#bd3786\"],[0.5555555555555556,\"#d8576b\"],[0.6666666666666666,\"#ed7953\"],[0.7777777777777778,\"#fb9f3a\"],[0.8888888888888888,\"#fdca26\"],[1.0,\"#f0f921\"]]}],\"surface\":[{\"type\":\"surface\",\"colorbar\":{\"outlinewidth\":0,\"ticks\":\"\"},\"colorscale\":[[0.0,\"#0d0887\"],[0.1111111111111111,\"#46039f\"],[0.2222222222222222,\"#7201a8\"],[0.3333333333333333,\"#9c179e\"],[0.4444444444444444,\"#bd3786\"],[0.5555555555555556,\"#d8576b\"],[0.6666666666666666,\"#ed7953\"],[0.7777777777777778,\"#fb9f3a\"],[0.8888888888888888,\"#fdca26\"],[1.0,\"#f0f921\"]]}],\"mesh3d\":[{\"type\":\"mesh3d\",\"colorbar\":{\"outlinewidth\":0,\"ticks\":\"\"}}],\"scatter\":[{\"fillpattern\":{\"fillmode\":\"overlay\",\"size\":10,\"solidity\":0.2},\"type\":\"scatter\"}],\"parcoords\":[{\"type\":\"parcoords\",\"line\":{\"colorbar\":{\"outlinewidth\":0,\"ticks\":\"\"}}}],\"scatterpolargl\":[{\"type\":\"scatterpolargl\",\"marker\":{\"colorbar\":{\"outlinewidth\":0,\"ticks\":\"\"}}}],\"bar\":[{\"error_x\":{\"color\":\"#2a3f5f\"},\"error_y\":{\"color\":\"#2a3f5f\"},\"marker\":{\"line\":{\"color\":\"#E5ECF6\",\"width\":0.5},\"pattern\":{\"fillmode\":\"overlay\",\"size\":10,\"solidity\":0.2}},\"type\":\"bar\"}],\"scattergeo\":[{\"type\":\"scattergeo\",\"marker\":{\"colorbar\":{\"outlinewidth\":0,\"ticks\":\"\"}}}],\"scatterpolar\":[{\"type\":\"scatterpolar\",\"marker\":{\"colorbar\":{\"outlinewidth\":0,\"ticks\":\"\"}}}],\"histogram\":[{\"marker\":{\"pattern\":{\"fillmode\":\"overlay\",\"size\":10,\"solidity\":0.2}},\"type\":\"histogram\"}],\"scattergl\":[{\"type\":\"scattergl\",\"marker\":{\"colorbar\":{\"outlinewidth\":0,\"ticks\":\"\"}}}],\"scatter3d\":[{\"type\":\"scatter3d\",\"line\":{\"colorbar\":{\"outlinewidth\":0,\"ticks\":\"\"}},\"marker\":{\"colorbar\":{\"outlinewidth\":0,\"ticks\":\"\"}}}],\"scattermapbox\":[{\"type\":\"scattermapbox\",\"marker\":{\"colorbar\":{\"outlinewidth\":0,\"ticks\":\"\"}}}],\"scatterternary\":[{\"type\":\"scatterternary\",\"marker\":{\"colorbar\":{\"outlinewidth\":0,\"ticks\":\"\"}}}],\"scattercarpet\":[{\"type\":\"scattercarpet\",\"marker\":{\"colorbar\":{\"outlinewidth\":0,\"ticks\":\"\"}}}],\"carpet\":[{\"aaxis\":{\"endlinecolor\":\"#2a3f5f\",\"gridcolor\":\"white\",\"linecolor\":\"white\",\"minorgridcolor\":\"white\",\"startlinecolor\":\"#2a3f5f\"},\"baxis\":{\"endlinecolor\":\"#2a3f5f\",\"gridcolor\":\"white\",\"linecolor\":\"white\",\"minorgridcolor\":\"white\",\"startlinecolor\":\"#2a3f5f\"},\"type\":\"carpet\"}],\"table\":[{\"cells\":{\"fill\":{\"color\":\"#EBF0F8\"},\"line\":{\"color\":\"white\"}},\"header\":{\"fill\":{\"color\":\"#C8D4E3\"},\"line\":{\"color\":\"white\"}},\"type\":\"table\"}],\"barpolar\":[{\"marker\":{\"line\":{\"color\":\"#E5ECF6\",\"width\":0.5},\"pattern\":{\"fillmode\":\"overlay\",\"size\":10,\"solidity\":0.2}},\"type\":\"barpolar\"}],\"pie\":[{\"automargin\":true,\"type\":\"pie\"}]},\"layout\":{\"autotypenumbers\":\"strict\",\"colorway\":[\"#636efa\",\"#EF553B\",\"#00cc96\",\"#ab63fa\",\"#FFA15A\",\"#19d3f3\",\"#FF6692\",\"#B6E880\",\"#FF97FF\",\"#FECB52\"],\"font\":{\"color\":\"#2a3f5f\"},\"hovermode\":\"closest\",\"hoverlabel\":{\"align\":\"left\"},\"paper_bgcolor\":\"white\",\"plot_bgcolor\":\"#E5ECF6\",\"polar\":{\"bgcolor\":\"#E5ECF6\",\"angularaxis\":{\"gridcolor\":\"white\",\"linecolor\":\"white\",\"ticks\":\"\"},\"radialaxis\":{\"gridcolor\":\"white\",\"linecolor\":\"white\",\"ticks\":\"\"}},\"ternary\":{\"bgcolor\":\"#E5ECF6\",\"aaxis\":{\"gridcolor\":\"white\",\"linecolor\":\"white\",\"ticks\":\"\"},\"baxis\":{\"gridcolor\":\"white\",\"linecolor\":\"white\",\"ticks\":\"\"},\"caxis\":{\"gridcolor\":\"white\",\"linecolor\":\"white\",\"ticks\":\"\"}},\"coloraxis\":{\"colorbar\":{\"outlinewidth\":0,\"ticks\":\"\"}},\"colorscale\":{\"sequential\":[[0.0,\"#0d0887\"],[0.1111111111111111,\"#46039f\"],[0.2222222222222222,\"#7201a8\"],[0.3333333333333333,\"#9c179e\"],[0.4444444444444444,\"#bd3786\"],[0.5555555555555556,\"#d8576b\"],[0.6666666666666666,\"#ed7953\"],[0.7777777777777778,\"#fb9f3a\"],[0.8888888888888888,\"#fdca26\"],[1.0,\"#f0f921\"]],\"sequentialminus\":[[0.0,\"#0d0887\"],[0.1111111111111111,\"#46039f\"],[0.2222222222222222,\"#7201a8\"],[0.3333333333333333,\"#9c179e\"],[0.4444444444444444,\"#bd3786\"],[0.5555555555555556,\"#d8576b\"],[0.6666666666666666,\"#ed7953\"],[0.7777777777777778,\"#fb9f3a\"],[0.8888888888888888,\"#fdca26\"],[1.0,\"#f0f921\"]],\"diverging\":[[0,\"#8e0152\"],[0.1,\"#c51b7d\"],[0.2,\"#de77ae\"],[0.3,\"#f1b6da\"],[0.4,\"#fde0ef\"],[0.5,\"#f7f7f7\"],[0.6,\"#e6f5d0\"],[0.7,\"#b8e186\"],[0.8,\"#7fbc41\"],[0.9,\"#4d9221\"],[1,\"#276419\"]]},\"xaxis\":{\"gridcolor\":\"white\",\"linecolor\":\"white\",\"ticks\":\"\",\"title\":{\"standoff\":15},\"zerolinecolor\":\"white\",\"automargin\":true,\"zerolinewidth\":2},\"yaxis\":{\"gridcolor\":\"white\",\"linecolor\":\"white\",\"ticks\":\"\",\"title\":{\"standoff\":15},\"zerolinecolor\":\"white\",\"automargin\":true,\"zerolinewidth\":2},\"scene\":{\"xaxis\":{\"backgroundcolor\":\"#E5ECF6\",\"gridcolor\":\"white\",\"linecolor\":\"white\",\"showbackground\":true,\"ticks\":\"\",\"zerolinecolor\":\"white\",\"gridwidth\":2},\"yaxis\":{\"backgroundcolor\":\"#E5ECF6\",\"gridcolor\":\"white\",\"linecolor\":\"white\",\"showbackground\":true,\"ticks\":\"\",\"zerolinecolor\":\"white\",\"gridwidth\":2},\"zaxis\":{\"backgroundcolor\":\"#E5ECF6\",\"gridcolor\":\"white\",\"linecolor\":\"white\",\"showbackground\":true,\"ticks\":\"\",\"zerolinecolor\":\"white\",\"gridwidth\":2}},\"shapedefaults\":{\"line\":{\"color\":\"#2a3f5f\"}},\"annotationdefaults\":{\"arrowcolor\":\"#2a3f5f\",\"arrowhead\":0,\"arrowwidth\":1},\"geo\":{\"bgcolor\":\"white\",\"landcolor\":\"#E5ECF6\",\"subunitcolor\":\"white\",\"showland\":true,\"showlakes\":true,\"lakecolor\":\"white\"},\"title\":{\"x\":0.05},\"mapbox\":{\"style\":\"light\"}}},\"xaxis\":{\"anchor\":\"y\",\"domain\":[0.0,1.0],\"title\":{\"text\":\"x\"}},\"yaxis\":{\"anchor\":\"x\",\"domain\":[0.0,1.0],\"title\":{\"text\":\"y\"}},\"legend\":{\"tracegroupgap\":0},\"margin\":{\"t\":60}},                        {\"responsive\": true}                    ).then(function(){\n",
              "                            \n",
              "var gd = document.getElementById('0e185745-5a68-4c9f-89b2-59297f581504');\n",
              "var x = new MutationObserver(function (mutations, observer) {{\n",
              "        var display = window.getComputedStyle(gd).display;\n",
              "        if (!display || display === 'none') {{\n",
              "            console.log([gd, 'removed!']);\n",
              "            Plotly.purge(gd);\n",
              "            observer.disconnect();\n",
              "        }}\n",
              "}});\n",
              "\n",
              "// Listen for the removal of the full notebook cells\n",
              "var notebookContainer = gd.closest('#notebook-container');\n",
              "if (notebookContainer) {{\n",
              "    x.observe(notebookContainer, {childList: true});\n",
              "}}\n",
              "\n",
              "// Listen for the clearing of the current output cell\n",
              "var outputEl = gd.closest('.output');\n",
              "if (outputEl) {{\n",
              "    x.observe(outputEl, {childList: true});\n",
              "}}\n",
              "\n",
              "                        })                };                            </script>        </div>\n",
              "</body>\n",
              "</html>"
            ]
          },
          "metadata": {}
        }
      ]
    },
    {
      "cell_type": "markdown",
      "source": [
        "# Calculando o valor da diária de acordo com a Equação Linear"
      ],
      "metadata": {
        "id": "nchjWKb5Sw55"
      }
    },
    {
      "cell_type": "markdown",
      "source": [
        "![image.png](data:image/png;base64,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)"
      ],
      "metadata": {
        "id": "-AEqhTczS4bS"
      }
    },
    {
      "cell_type": "markdown",
      "source": [
        "- Yi = previsão do preço da diária\n",
        "- α = constante\n",
        "- β = coeficiente de inclinação da reta\n",
        "- Xi = n de pessoas\n",
        "- Ei = erro"
      ],
      "metadata": {
        "id": "g292m-lIS8hS"
      }
    },
    {
      "cell_type": "code",
      "source": [
        "# Verificando os valores de uma determinada previsão na quantidade de pessoas\n",
        "alfa = predicao_custo_diaria.intercept_\n",
        "beta = predicao_custo_diaria.coef_\n",
        "Xi = 8\n",
        "\n",
        "alfa + beta * Xi"
      ],
      "metadata": {
        "colab": {
          "base_uri": "https://localhost:8080/"
        },
        "id": "sQyJEM_-S3kt",
        "outputId": "dadf1ffc-be58-4029-aa86-74c1db205989"
      },
      "execution_count": 71,
      "outputs": [
        {
          "output_type": "execute_result",
          "data": {
            "text/plain": [
              "array([544.83654593])"
            ]
          },
          "metadata": {},
          "execution_count": 71
        }
      ]
    },
    {
      "cell_type": "markdown",
      "source": [
        "# Calculando o valor da diária através da função predict do modelo"
      ],
      "metadata": {
        "id": "XwN2ClGkTqN8"
      }
    },
    {
      "cell_type": "code",
      "source": [
        "# Verificando de modo direto\n",
        "predicao_custo_diaria.predict([[8]])"
      ],
      "metadata": {
        "colab": {
          "base_uri": "https://localhost:8080/"
        },
        "id": "foPRH7nRTtKl",
        "outputId": "25f2cded-7d9d-42a8-cf7a-a3e31ec9fead"
      },
      "execution_count": 73,
      "outputs": [
        {
          "output_type": "execute_result",
          "data": {
            "text/plain": [
              "array([544.83654593])"
            ]
          },
          "metadata": {},
          "execution_count": 73
        }
      ]
    },
    {
      "cell_type": "markdown",
      "source": [
        "# Avaliação do modelo"
      ],
      "metadata": {
        "id": "oqMmIhNNT7c-"
      }
    },
    {
      "cell_type": "code",
      "source": [
        "# Calculando a acurácia do modelo\n",
        "predicao_custo_diaria.score(X,Y)"
      ],
      "metadata": {
        "colab": {
          "base_uri": "https://localhost:8080/"
        },
        "id": "4hbwxvrtT9Dl",
        "outputId": "5938bebb-e28d-4c11-d7d8-ba19aded151c"
      },
      "execution_count": 74,
      "outputs": [
        {
          "output_type": "execute_result",
          "data": {
            "text/plain": [
              "0.984200996064679"
            ]
          },
          "metadata": {},
          "execution_count": 74
        }
      ]
    },
    {
      "cell_type": "markdown",
      "source": [
        "# Calculando o Mean Absolut Error"
      ],
      "metadata": {
        "id": "LwRF_ftuUEau"
      }
    },
    {
      "cell_type": "markdown",
      "source": [
        "![image.png](data:image/png;base64,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)"
      ],
      "metadata": {
        "id": "aLoSf5UaUNev"
      }
    },
    {
      "cell_type": "code",
      "source": [
        "mean_absolute_error(Y, previsao_valores)"
      ],
      "metadata": {
        "colab": {
          "base_uri": "https://localhost:8080/"
        },
        "id": "wlEgdm58UMmW",
        "outputId": "81e7567e-2c63-4809-fc2d-7cd609c29de5"
      },
      "execution_count": 75,
      "outputs": [
        {
          "output_type": "execute_result",
          "data": {
            "text/plain": [
              "83.84480977618742"
            ]
          },
          "metadata": {},
          "execution_count": 75
        }
      ]
    },
    {
      "cell_type": "markdown",
      "source": [
        "# Calculando o Mean Squared Error"
      ],
      "metadata": {
        "id": "hxVNZS3nUYWO"
      }
    },
    {
      "cell_type": "markdown",
      "source": [
        "![image.png](data:image/png;base64,iVBORw0KGgoAAAANSUhEUgAAAOAAAABXCAYAAAAd4kksAAAAAXNSR0IArs4c6QAAAARnQU1BAACxjwv8YQUAAAAJcEhZcwAADsMAAA7DAcdvqGQAABzrSURBVHhe7d0H2Lbl/Afws7L3Lspeycoum8gmsskIIVkJh4j3iIooGeF9ySgZ2UlFRAhZ2Xvvkp09rv/1+f2f33NcXe89n/Xez9P5PY7zuO/7muf67d953pvd4ha3aNatW1fucpe7lM0226xUVFQsP1q6C3rbfO53RUXFCiKFXSXAiopNiEqAFRUrjKZpNpaA1f6rqFh5VAk4Y8Adh5WKtYdKgDOAJLA//elP5ec//3k588wzy3/+85/yz3/+M77/6le/Kn/+85/L//73v7k7KtYKKgHOABDfb3/723L00UeXJz/5yWX//fcv3/3ud8unPvWpctBBB5U999yzvO1tbyt//etfqyRcY6gEOAMg2b72ta/F59WvfvXy8Y9/vLz97W8vP/nJT8pNb3rT8q9//at84AMfKH/4wx/m7qhYK6gEOAPYYostyo1vfOPykIc8pFz3utcNdfNvf/tb2WmnncrOO+9ctt5661BF//3vf8/dUbFWUAlwBsADfYlLXKKc97znLT/60Y/K5S53uchMutKVrlR+97vfRUGgF7jABaq3eo2hEuCMYPPNNy+///3vy7e+9a1y/etfv1zvetcLyfjTn/40pJ/UpYtd7GLVBlxjCALEVQ1s9bJtGuh7Xk+23i9+8YuyzTbblEtf+tLhBf31r39d/vKXv5Rtt922nP/85y///e9/5+6qWK1IeoMgQD8crOrNpkEOyNe//vWw86561auG9PvHP/4Rjhiq6dlnn12OO+648rOf/WzurorVjKS1eQKsmB76ban6zoBwvNzwhjcs17nOdUIlveAFL1iuda1rxfe3vOUtYQte/OIXn7ujYi0gliO94AUvKHe7293mJWHFaFDVEct5znOecr7znW++zxbbd6Sb5175ylcOhwsIPXz5y1+O93DEXOhCFwqCrFi9QGe3vOUt43PeBqwYDx0mRPC5z32uvOENbyjf/OY3l9QmY/td4xrXCFsvcclLXrLc/va3LzvuuGO58IUvXIlvjaGO5oQg9b7//e+XN73pTWWfffYp69evjxSxpQRGyPbrMkTfSVp2YGWUaw+VACfAWWedVY499tjyyle+snz4wx8uP/7xj0NVRJRL6TlOAvOZpWJtIwhwqRwJaxG8koLjX/jCF8oNbnCD8sQnPjHidNMSiD6epJ8r0Z27EARY43/DQf2Tn/mEJzyhPPShDy3bbbdduchFLjIRMeU1kqhJTEU4QVyvXxyftnTv9w6rKcQTK1YPwgu63377lXvc4x4xYSoHHg3LhZ761KeWL33pS+VVr3pVpIzxUEK/7/Qnwjj++ONDdUWAiXSm5D2TEPQgYJ45bhjFIx/5yHDk1HGcXRivc3hBK5YHiEAhrRDg+973vvLe9763fPSjH43lRzJdlJSO0xYS79RTTy0f+tCH4tlWUTi2UGKuWHlUCTglZKY885nPLJ///OfHSkDQp7/5zW/inve85z2R3XKZy1wmbMkHPvCBEVpIghl2Pww6hwgRIM8sG3X77bcvr371q8vNb37zGq6YYRjTKgFXCAhHXudjHvOYIAwgpT74wQ+GN9VSo6tc5SpRBOC7JY8POqfIknnQgx5Udtttt3LRi1403pWlYnUgCLBvj1SMB9tLf+Fi4yY9CXmrW90qHDnSzATvBfGtgLfagePE/cahWwYd6xaxQRL0dre7Xbn2ta8dDiP1SalZMfuoEnARGEV0fSBCi2sturWsSHiDLUh9XMxKd4RIpRUakUGTjKFidaAS4AJggisp/SaFRGoEeN/73jcI0vo/e71QR9lzC5Fc3i8/VLoaG/BSl7pUJcBVhEqAUwKRZNx02jxQaWZst0c/+tFlhx12CEKRgH3kkUeWL37xiwuK4XmGxG3J9M9+9rPj+VUF3bTQ/1nGoRLglJD/aYW6xbOcKLya03Q4O01GzeMe97iwB92D+F7/+teXH/zgB3NXTQe2IMl3+ctfPpYwVQm4cjB+f/zjH2PFyoknnhhhppNOOinGcpL5sMU222yzjvpyzWtec+5QRR/ieB/5yEfKu9/97gglfOUrXyl///vfI7zAiaLzt9pqq1Ax2WTjQP3k2RQDtAjXCguJ3mxDtlwlotUDDFnoR7IFZmwsxXzlDsuaMi8GjeURRxwRn0GAt73tbYMA66BvDFyMyilwDsIGvI53vOMdY33elltuWa5whSuE6ocAJ+lD13CYuPeXv/xlcEsEbTsKhCmThVSrmH3QhhCf3eykKjIthJlIQ+Enx7vLyxKWs0EQoAklprRUMGnZR0SzydaVCv0J6tpxk3aSa5YL3kttRGRUxhvd6EZREB+nhw4WAkB8/aVE40DiWQP4ne98J2xB/WXVu2dSJyeRptNCX7I1cW6Er97aB5OMTR7blGOyErAChnaijaMWQcsLtmGW9ZoYKu2FZiRBwry42c1uNr+4uouUgJEJYzLhvCbWrW996422v9PZciDptirmpTe5yU3i+qRug4roDCoVzURSEQFilbra1a4W0X+2isZYYXDyySeHZKGSdSuZk4SrXr04GLxztUO7utDH1NB3vetd5YADDijf+973oh9w0uc85zmxN0xet1h4t/ExJvpdHBKRP/zhD4+Nnz75yU9GUrfxxABuc5vbzI9J7tJtTI0VxmPSiUHOEswZRCNPV91Mfls8Uu8xGSrhpJrFD3/4w3CO6TP0ob3DmGKXGWGiGzZsiPTAZz3rWbG3a58AXY9gISTgZz/72RCjLkSAKL476L4fddRRxdYVrsPpEcVlL3vZqFAOrsa/5CUvKV/96ldD98Xdv/3tb5c3v/nNQZhUXfd4Hn3ZJkOHHHJINJbapZM8x6RUp3e84x3x/Dvc4Q5Rp7UG/aAvDSwV9Bvf+EbYEFRRkgkH7Y/FYoDQXvOa15TTTjstxkJc0gTV38Ih1CIqsclBI0rJKE4p7e6tb31r1JfGZGzz/CzAHCQkbOVvF/FPf/rT5fTTT49jJ5xwQuwskMkKkwDD10YCR8IE5sR5hgH1x6P7m69AP93rXvcqu+yySzCCQeN3DhsQ5+DVo2aZ7GnLJGFpyBvf+MbghPRabvQ73/nO89zEdQb1uc99bvzee++9y/3vf/+osP0t3ceOkjKVE4pUJAVxXpwK4ZKqtmK3MZEOwKVlkJgQg/To1Qbt7pY8pk9MDmqhvmJDUEmtblAWM9GNjXewVXha5bA+7GEPK/e+970jgI/B2RTYdZ/4xCeCQcpRNfmyjggQs8Qonv70p4c0MB55fhZgDvMmIxR5tqQd1d4cw0wQhPZOCozGXNf/aINE82mcci5m+/UdgSIZntAgMR/72MdGvw6SmJAEGGdVkLpDfFL78sE+qYi8fzizAcAxqSDdB2s8FcWmsoiOIYpTqKjdnSV664CuGomwBaI1VGdRVXELhKnijt397ncPTu3YWoeJ//jHPz76DsHRGKgypGLGHRcCY2hMqZ3vf//7Q3qRfH3JatwQnQlsXMB7jbv7fN9rr70GmiibGuqmPpj3k570pGDamMyhhx4ajF29tc115uokQFTAZHrwgx8c5pad6Xi8zd1u+/Uvs4uWaP9WISbEC/mcYQgqQuWIC+fV4eBGFI9j0qkRkpciwCte8YpBOAkVwL1xAYRHMmYFfcdtZYB0OTlipx44lg4g9+gkDWT77bHHHjExuu9ai9BubWR74ZzUcf2v72keVmD4PW4wB8E9VE8EiOjuete7hvMHvDcLrUeyuPEnfVMroqGccsop5Z73vGdoPZih62cF2sc29ec2bD19xaQBc9Y80n5mEU1O28yxaYCYaIbmJRVT1lLC+72X2kmI0R6ou8wIAol6P2rcggBVkvqJKFTODV7GYGfzEbsag0BNDi/oDgIiwincR4XqN9I5Uq1LgJ4tkE0qJgEadB1lsrgfU3B+3IBrpE5G0JMWHSS+Ny36nen3qA6eFNqIQDJfVJ/pb9oHCTRtXbNemKPJyQ6iGmGetJd+n+pnBIiJUv3NBROLg4gZIX1u1pwuoI3qyZfAxCF99Jn5ZQ6L0x522GEhxWQKURMxlnHQP1mARmae0vTM70T+rZw+Q6j6mrr+ile8ohxzzDGxIHsUggA5TMS3TErqh0HjFDDwbAfcz2+DwhVPynVBylEVeTpxy5e+9KUhkgc1VIN0mnfRzxGZjtIo3Pbggw+eJ8CcRMogOO46nIaDiAo3rLALuoVawuaZFv2J2x2kpQDmZrLoc0RhgKk23NqIY1hf9JF1cg+1CRAgRjgI1EpJABgxtZe08BdpxhpDMD+WApPWPzFq/AEzoTmQUOab9lLj1RfDp91hIM4hIip4VxB0Meg9eYzmZ+6jB2svvcfcI305rjBPxKnPMC3z2Vh616A5k88NJ4ygsoeZkAxsFUbRPGYIC2eUYoObWFKDE3Qf6jsiRkwGznNcm8f6rl+S7jOf+Uys4gaVxZmIcY2zyNV7U/XsN6AL5zAHagGpgcMPKmyALH6T6NRb9Rv0fB1k0EhXDEnxW+n/7h4zIZTs4FF178J1eS0VESFwIuhHTBGXZxMPI6A+vF+hUsrewfB23XXXmESD4N0YofHjgeZ4IUU43DjBuja/uQKTti2RfZL9ZR5kyWPqoOR5x/32zmGEg0mQzhiNvqIqZ2aXdzKh9KM/OsVkuiZSwnXeA91zvudv2h1no7mDTtTHePieKjoVnxaDptiNGR/ug8fZc6NFKsQJgAuy5QwWrw8uwoGi86ltdNxhqTVsA5XQkNe97nWxeS2JKZ4l1a0bC0EsGuNalWXYawwC0gm8oJMSn2eoF9tpGlvRAA8aiAT172Uve1nE5vrIe7wb8rfniasZhIXCszyHo8siXloCBoXLjlNn+jBu+hrXNhG6TrBBMJkwpXe+850hBZ/2tKcF8XXb61mpuWBmw4hiEDyHW5+nkETPCd9H9mvCffrjKU95ysA2aKdMJIRAG0JwJB2iVF9t4aDBfIZ505lDmI7nUCWzzQm/9aE6eyaG4L1Kagf9e2DQMcjjwdZMXA/HeXE9MRSS6H73u19MbmLWSxFGenf60Gk4kcn3whe+MAbOM3Q2ou6Cp83E1hmk3QMe8IB4l0/xRR01rOJ9uE5JUd8tozCK+EBHazfJwyPpk1bQLWKcikH3Sf+fRk0cBX2DGNjc3OeMe0xyWpAiJhYGOM6b7BpESJ2irhqb/oT/2Mc+FkyVg2gYAY2CiYsIMWB9mn3YLSR/Fr/1b076YTD+tCZtYP6YY9qOcZF+VFRqZB/GypjxcDKdCBrHBjGBtIGZBdqO+LrzrXtPHhuHefal4xGhSaQSBl82hBfhViQCwhhniDtv8HBvHYf7cJCwD0Enkoy8VY7plKwoDkZFMAGSw4yDRutk+rfn5rH8zI7odwYCFHfEWQeB/o6RZB3G1YUajAEJp8AknT8KVC82seQG3Hz33XefKo6V79ePXULJPunDcRIWs9QWY91/n/toQDQWZog+nBa0nGc84xkhzdTNe3O8hsF7vWuUBEeAnIXGUzyQEBGOsNbSPDPWrum333eFWimVjDTrnu9CP7rf2AxC3jfs/i5cE+1uJ31zwgknNO1AN60O27RE2LSE17SD355vmnZyN7vttlvTVqxpbYmmfXnTdlycy89WnZv/Dm1Fm5bDNa162bQd0px00klx3DWuPfbYY5u2wU3L1ZuWO8U5yPOtLh/18ZxRyOtPOeWUplUxmpZIJi6tJG+OOOKIuScNhudPW5YC2n3iiSc2re0d7WonUfT7QqB/WzOiaRlbc/LJJ88dHYwzzjgjxrplgE1rnw8cV79zXJaqvUsBdWklWbNhw4amtZ+bffbZp2mldbS9tbea1paPa/p11pYs2ptt7l+n/4866qimVVGb1i5uWmY/d+ac82RS7LDDDg3aC7aOGkku3ImawlinbrbXzTsAMus/VT1w7sADD4xtFYjxhPNtQ+IYW6GrOrWVDNUUl6Xeemei7YR414tf/OK4Zhy8h/pM4r72ta8Nx86khY17pzvdaST39fxpy0KhHgq1SShG6hdV7VGPelSoVvp9WngeyaGP01E1CjnWJIbx1rfZJpKR1JLbyDlHI5olqCcNxFxgmxpjHknzmVc0pXV3jPSPecZ/wNNri5CWOc+dPSdcyyRxvusHcTyxkPGffxuVS7I0F7jAOXFvMlAVFeopIu2+hIdNpSVpu4ZozopSCZ03ycUZEyYVtVRn6aiuWkH15QCgUpo0kzTINZ7ByKbCTlOoHQvptOWAeij6TtiBjcVBhQBzx7NpYSzYkhgnAvRsjHEQjF3auohPn3bfiYne5z73CfvHM0zEWem7hPrwcJsLVHfeeGmOOf8G1Ze3lMnDJzGqTfqn1RBCSJg3mFOX+BaKIEAP0uHsjP333z88QcAzJIDLFY/jMYoNZAKBISiuWR5D+W3cq7i3+2yZx7mCcL2DM0C4gZfKb3q697G11q1bF9JUKAIzENtxzVI0crWADSaRWBH6EQLoM71Jkf1mXNk/Jhf73pj14VpOJaEmGop6cH6YdAnXYJDOi6d1vdqzBIybA1D9+Bcye6ePnFuKuU3AdAVFF67hnNQnGBGi9sylYEDzBIiiDTZum5wA4XGKWFZhiQxHDQ6Q9+Csz3ve88Lh4j7uaRySISuNDEEjZs92n8EzIeTrKdRcqgH1Cqfm8XOf55GO6rAUjZx16EtSRfxN6hlvtIyOYQ6iSZB9p2/FoxC0OBmH2CAYH4RqA2HeaHOhS4C8isYXcyQhPVu9Zw3ay0HEiUj7Mv+GSTbHzFdCxJwd5iVN00iKG82J1PTMJUH7wOb444+fN6y7aG2GpuUOTcs14/Pss8/e6DpGq3MthwiHTduguK4dvDjnesapT8e6z+yXdpDjXsa0e84t0DetWh5Oqdb+ag466KCmnRRL0geeYRwOP/zwprW5m/Xr10cfJ5xXjEt/LHKsnW8nX7Prrrs2rVYTjp0c11mDuXP00Uc3u+yyS3PqqafOt2EYOAjRQKuJNa12N9+ubJvf+mLfffdtWgERzql06CS610+KjZww0B6PzwQxixuTbj4HqUM4jnPppOG6dl1KtuQ+Ph3rPrNfSEf3koaDONZaBdvCmknhHhkUVHcq0WL7IMeTBsKeFKM95phjQtKSuOAdinHJMciSXN55IR6xO44zUnCYVFlpaCMpRjpRncX8JExTk61MUM/+vE44zrlEBaXp8UtkfyjOM7k47JhLkiyot3ldIq9fCOZV0EkfstAXrWboHxOWUyoHM49R01vuF8emhWdQ7STv2sRHHIvajpEhmsWiO6ZUMTmw1DNOHkn2CF+buhg0D1wjO4oXlZMDg5wF6D9147CyowAfBP8DQpS2h9HDsDmrPQiWYOirldRvbZYuKdlaTNE/Ty0kGWIU4o0m0LBKntuByOj/nEqyQHgSDbrMDL85TNhWBn0amDwGmUNKFgaC43Rh9+GwSwljSxshEYQS2N5WDHDTT7LKApORVGFC8wB61qxA27RBAr9V/RxFVkXox1FMTP+T6jy/fA80DvA85zhdhNd4Uq1lZZOzE7tEulB4fpZl2ZRprcDEk41y5JFHBqHZ6cpAmYAy3h0jvXBJkzsdTpMCYVs0yrv8iEc8Ihxd1ECTQFlKeJ66MRF4mBGhd5lU4yRaaxPG5MYwSIFBuZKbAlkH9Re7FKOUsicWOMhcSpj4rW0XXk1hL5k9aKCrghp7arnUSGonB81SaCXg3ZxtsHhyXsMg1RAH7yCPGm+Z5VbUN4Pjjzp5F6kxJJkJOimEZNhj4qUGmN03aexzHEywUSDJ2EiS5BHhMKSKnemJXPqC0LMEEgnxiZcKeWEuiG8YaHs0GEkHFgy4X/+zebugaqZgSqa4HKgEOAICtILPJJOMHhNbwFY4RsICzmki45zTqKAMe2st2RakpiVenBuLAWKhHpNWfbtuUqRalARMPZOgzEEklCE8gXiXazIuFDSSSeqkXfrJxrnWnYpfk5iYaCLb73lLoW6OQyXAERDM5XQwGGw+DhMEQxqmMc6QV3iBxw2YgSUlOQ04DDwX8QnsLka98VwOgxe96EURTFefhUB9snhm2o2ki6VJ2r4WQNpJT9Mm9mJXwmX7VwqVAMcgiYa9QLWxrCUnIjVScBp40TLfcBg8i7pK/yddqEyW/CD0xQw6m4LTgGrs+QuVgF2oD6lsjSdJz1Yc175ZhzZpA5WTY0XKWoZ7sqw0KgFOgFwQy4HBwCfpDJYYEkISQyIpx3kH2R2cNwjFUi87d02zxGgQEDWJJ6lYlguHxFJ5UbUHc+jHvVYztEMfKePGayVQCXAMTHCJ5oK9JB9Coy46Lo6GMBElu3AYUooKW7D77FMiFY+BP4naynHQL44rKf3k2AIbbSVsl9WKWWMkdaTGwASXZSFmZK+cTELmHSQZESb1k5RAkIOcMZ7B47Z+/fq4hs2HA1Nrrd4eVSxN4oXsF8ez8KbK1DC5OI6WSgJWLD/ivyH222+/2Pul4pwgYdh5nBt2lbbSg1cU8Qj+WoNoBce+++4bUo09aPs+37vgwtfHYk6IRMYL28Pz/V4MV+bVwyA4iYQx7MfDtqxScHbBRmdXG/9Ixj7uuOPa7xV9tKpe0xJVs8ceezTbbrttc/rpp8/vCNBKwEjM3W677Zqddtqp2WuvvZrWvmtagp1PzlX8Pvjgg5utttqKb3/q0hLn0NK/duutt46x9N6K2UXLNCMR244HVQKOgURdqqLYnYB8uqzbfgzpaOW1T3agNC0ubuehJYRw0kj/kq7mtwLpyPGcPDYMrukj3wF5nuR9+ctfHg6eitlFVwJWAhwDxMGGM+H7XjMdyLniMz2FfcJgI/J68oAmuteMwzjiTCBoaq3VFMMWllbMBjYiQLtKi0dVu2H5odMVtptPfV6dJucuYKq2f4nxnzsWcKBieUH6ceBQXe1CjRAXizpuqwtdrSYI0IG0SSqWF4jFXjv+SNKeld3d5BYCYyf7RZhjsc+qWHkEAVYOunLA5GS/2HnOKvVRqxGGwXiRnPI/LYd6/vOfH0VssmJ1oRp9KwjGt4A+T6mNpxjiC8mvRMQC8IcffnisVbQY1VKpqsGsPlQCXEFQFy3eFSj392j5xy+Oy+O0X6p1hd0sl24R0kDEPK88star2bFO+AHxdW2LitWB8ILaWlDWe8XygupoawdbL1rmYy9U2y9SJ2154W/E5HX2HTNyT9noQgwIzneE6NP6P2varAW0QbJsmIrZRo0DbiLocItAEaAFvXvvvXeEIMQZJXWTiL53JRkiAxLOtgj2u+zGI6m0VtNTQSsBrg50CbCqoCsIHS6BGwFZWSGnFGH5bSc0sSED478gsshq8em41ff9ZABIIq1Yfagjt8Kwt6YVFfm/FAqpJ1XNn574b3H/aS6lTLFpk+I7jyfpiJAT+bt7rGL2MGx8KgGuICycZQNaMsQGTMJRxPCkq8kr9dkt7DvHlUyLA/elukqtcS6fVzFbyDHro9qAKwjbENoDhuPFnjCpOiIiBCjhOwkqB8ynYz6prOKG7uOoQZA8o/7wUtK4rS54RC0OXu3bR6xlVBtwEwARIRaE4t9nERGiUng57TcjQM/Rotj0SXHMhk+O5f4lBo631AZMNvVFjO633pA3lWOmYnWgEuAyI9VBsTv2H6+nzYC6SEIcVvpwjJSzr+eee+4ZC4U3bNgQm+ba7au/x2XF7CIIMFWhajssPRBLbm4rBGFHahKwS1jT9HveRxVlR3qebdjt2+m7fWZsGlyxOlAl4DLDekB7wVAVOV9IqcXuhDYMg6RlxWyjEuAyg31HUtkA1t4yVtVn/K+iohLgMoJqaZtAthrC878KGUiv6v65F93EiUqAywhSDsFxvAgL+F0lX0WGmqAS4CZCJcYKqAS4iVEJ8dyNjQiQbVJLLbUsXekif/8/0y3l/wClttE3Y8cFyQAAAABJRU5ErkJggg==)"
      ],
      "metadata": {
        "id": "IvHLQNU0Ubgv"
      }
    },
    {
      "cell_type": "code",
      "source": [
        "MSL = mean_squared_error(Y, previsao_valores)\n",
        "print(MSL)"
      ],
      "metadata": {
        "colab": {
          "base_uri": "https://localhost:8080/"
        },
        "id": "jGr3EzaiUHlN",
        "outputId": "79b7f8b4-5adf-4545-99cd-b922907c096f"
      },
      "execution_count": 76,
      "outputs": [
        {
          "output_type": "stream",
          "name": "stdout",
          "text": [
            "9989.829839426571\n"
          ]
        }
      ]
    },
    {
      "cell_type": "markdown",
      "source": [
        "# Calculando o Root Mean Squared Error"
      ],
      "metadata": {
        "id": "L5vMC7hWUiMv"
      }
    },
    {
      "cell_type": "markdown",
      "source": [
        "![image.png](data:image/png;base64,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)"
      ],
      "metadata": {
        "id": "ufqMT47qUlh_"
      }
    },
    {
      "cell_type": "code",
      "source": [
        "np.sqrt(MSL)"
      ],
      "metadata": {
        "colab": {
          "base_uri": "https://localhost:8080/"
        },
        "id": "lq1YvIYJUk-V",
        "outputId": "5ad1b004-4d8d-4fa9-e1e0-fdf80d03128d"
      },
      "execution_count": 77,
      "outputs": [
        {
          "output_type": "execute_result",
          "data": {
            "text/plain": [
              "np.float64(99.9491362615334)"
            ]
          },
          "metadata": {},
          "execution_count": 77
        }
      ]
    }
  ]
}